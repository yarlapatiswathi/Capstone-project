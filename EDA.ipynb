{
 "cells": [
  {
   "cell_type": "code",
   "execution_count": 1,
   "metadata": {},
   "outputs": [],
   "source": [
    "# while True:\n",
    "#     id=input('''What do you want to analyze?\n",
    "#             1. Transactions made by customers in a given zipcode for a given month and year.\n",
    "#             2. count and total values of given transaction type\n",
    "#             3. count and total values of transactions for branches in given state\n",
    "#           ''')\n",
    "#     if id==1:\n",
    "#         zipcode=input('Enter the zipcode of location you want to analyze: ')\n",
    "#         month=input('Enter month number: ')\n",
    "#         year=input('Enter year')\n",
    "\n",
    "\n"
   ]
  },
  {
   "cell_type": "code",
   "execution_count": 2,
   "metadata": {},
   "outputs": [],
   "source": [
    "from pyspark.sql import SparkSession\n",
    "from pyspark.sql.types import *\n",
    "from pyspark.sql.functions import *\n",
    "\n",
    "spark=SparkSession.builder.master('local[1]').appName('Credit Card Management System').getOrCreate()"
   ]
  },
  {
   "cell_type": "code",
   "execution_count": 3,
   "metadata": {},
   "outputs": [],
   "source": [
    "df_cust = spark.read\\\n",
    "  .format(\"jdbc\")\\\n",
    "  .option(\"driver\",\"com.mysql.cj.jdbc.Driver\")\\\n",
    "  .option(\"url\", \"jdbc:mysql://localhost:3306/creditcard_capstone\")\\\n",
    "  .option(\"dbtable\", \"cdw_sapp_customer\")\\\n",
    "  .option(\"user\", \"root\")\\\n",
    "  .option(\"password\", \"admin\")\\\n",
    "  .load()\n",
    "df_cust.createOrReplaceTempView('df_cust')"
   ]
  },
  {
   "cell_type": "code",
   "execution_count": 4,
   "metadata": {},
   "outputs": [],
   "source": [
    "df_branch = spark.read\\\n",
    "  .format(\"jdbc\")\\\n",
    "  .option(\"driver\",\"com.mysql.cj.jdbc.Driver\")\\\n",
    "  .option(\"url\", \"jdbc:mysql://localhost:3306/creditcard_capstone\")\\\n",
    "  .option(\"dbtable\", \"cdw_sapp_branch\")\\\n",
    "  .option(\"user\", \"root\")\\\n",
    "  .option(\"password\", \"admin\")\\\n",
    "  .load()\n",
    "df_branch.createOrReplaceTempView('df_branch')"
   ]
  },
  {
   "cell_type": "code",
   "execution_count": 5,
   "metadata": {},
   "outputs": [],
   "source": [
    "df_credit = spark.read\\\n",
    "  .format(\"jdbc\")\\\n",
    "  .option(\"driver\",\"com.mysql.cj.jdbc.Driver\")\\\n",
    "  .option(\"url\", \"jdbc:mysql://localhost:3306/creditcard_capstone\")\\\n",
    "  .option(\"dbtable\", \"cdw_sapp_credit_card\")\\\n",
    "  .option(\"user\", \"root\")\\\n",
    "  .option(\"password\", \"admin\")\\\n",
    "  .load()\n",
    "df_credit.createOrReplaceTempView('df_credit')"
   ]
  },
  {
   "cell_type": "code",
   "execution_count": 6,
   "metadata": {},
   "outputs": [
    {
     "name": "stdout",
     "output_type": "stream",
     "text": [
      "root\n",
      " |-- SSN: integer (nullable = true)\n",
      " |-- FIRST_NAME: string (nullable = true)\n",
      " |-- MIDDLE_NAME: string (nullable = true)\n",
      " |-- LAST_NAME: string (nullable = true)\n",
      " |-- FULL_STREET_ADDRESS: string (nullable = true)\n",
      " |-- CUST_CITY: string (nullable = true)\n",
      " |-- CUST_STATE: string (nullable = true)\n",
      " |-- CUST_COUNTRY: string (nullable = true)\n",
      " |-- CUST_ZIP: integer (nullable = true)\n",
      " |-- CUST_PHONE: string (nullable = true)\n",
      " |-- CUST_EMAIL: string (nullable = true)\n",
      " |-- LAST_UPDATED: timestamp (nullable = true)\n",
      "\n"
     ]
    }
   ],
   "source": [
    "df_cust.printSchema()"
   ]
  },
  {
   "cell_type": "code",
   "execution_count": 7,
   "metadata": {},
   "outputs": [
    {
     "name": "stdout",
     "output_type": "stream",
     "text": [
      "+-------------------+\n",
      "|       last_updated|\n",
      "+-------------------+\n",
      "|2018-04-21 12:49:02|\n",
      "+-------------------+\n",
      "\n"
     ]
    }
   ],
   "source": [
    "df_cust.select('last_updated').distinct().show()"
   ]
  },
  {
   "cell_type": "code",
   "execution_count": 8,
   "metadata": {},
   "outputs": [
    {
     "name": "stdout",
     "output_type": "stream",
     "text": [
      "+-----------+------------+-----------------+-----------+------------+----------+-------------+-------------------+\n",
      "|BRANCH_CODE| BRANCH_NAME|    BRANCH_STREET|BRANCH_CITY|BRANCH_STATE|BRANCH_ZIP| BRANCH_PHONE|       LAST_UPDATED|\n",
      "+-----------+------------+-----------------+-----------+------------+----------+-------------+-------------------+\n",
      "|          1|Example Bank|     Bridle Court|  Lakeville|          MN|     55044|(123)456-5276|2018-04-18 16:51:47|\n",
      "|          2|Example Bank|Washington Street|    Huntley|          IL|     60142|(123)461-8993|2018-04-18 16:51:47|\n",
      "+-----------+------------+-----------------+-----------+------------+----------+-------------+-------------------+\n",
      "only showing top 2 rows\n",
      "\n"
     ]
    }
   ],
   "source": [
    "df_branch.show(2)"
   ]
  },
  {
   "cell_type": "code",
   "execution_count": 9,
   "metadata": {},
   "outputs": [
    {
     "name": "stdout",
     "output_type": "stream",
     "text": [
      "+--------------+----------------+-----------------+----------------+-----------+---------+----------+\n",
      "|TRANSACTION_ID|TRANSACTION_TYPE|TRANSACTION_VALUE|  CREDIT_CARD_NO|BRANCH_CODE| CUST_SSN|    TIMEID|\n",
      "+--------------+----------------+-----------------+----------------+-----------+---------+----------+\n",
      "|             1|       Education|             78.9|4210653349028689|        114|123459988|2018-02-14|\n",
      "|             2|   Entertainment|            14.24|4210653349028689|         35|123459988|2018-03-20|\n",
      "+--------------+----------------+-----------------+----------------+-----------+---------+----------+\n",
      "only showing top 2 rows\n",
      "\n"
     ]
    }
   ],
   "source": [
    "df_credit.show(2)"
   ]
  },
  {
   "cell_type": "code",
   "execution_count": 10,
   "metadata": {},
   "outputs": [
    {
     "data": {
      "text/plain": [
       "DataFrame[year(timeid): int]"
      ]
     },
     "execution_count": 10,
     "metadata": {},
     "output_type": "execute_result"
    }
   ],
   "source": [
    "df_credit.select(year('timeid'))"
   ]
  },
  {
   "attachments": {},
   "cell_type": "markdown",
   "metadata": {},
   "source": [
    "## TRANSACTION DETAILS\n",
    "1)    Used to display the transactions made by customers living in a given zip code for a given month and year. Order by day in descending order."
   ]
  },
  {
   "cell_type": "code",
   "execution_count": 11,
   "metadata": {},
   "outputs": [
    {
     "name": "stdout",
     "output_type": "stream",
     "text": [
      "+--------------+----------------+-----------------+----------------+-----------+---------+----------+---------+----------+-----------+----------+-------------------+----------+----------+-------------+--------+-------------+--------------------+-------------------+\n",
      "|TRANSACTION_ID|TRANSACTION_TYPE|TRANSACTION_VALUE|  CREDIT_CARD_NO|BRANCH_CODE| CUST_SSN|    TIMEID|      SSN|FIRST_NAME|MIDDLE_NAME| LAST_NAME|FULL_STREET_ADDRESS| CUST_CITY|CUST_STATE| CUST_COUNTRY|CUST_ZIP|   CUST_PHONE|          CUST_EMAIL|       LAST_UPDATED|\n",
      "+--------------+----------------+-----------------+----------------+-----------+---------+----------+---------+----------+-----------+----------+-------------------+----------+----------+-------------+--------+-------------+--------------------+-------------------+\n",
      "|         17384|      Healthcare|            51.29|4210653395351413|         81|123456703|2018-03-27|123456703|     Selma|      elroy|        Le|4th Street West,801|FloralPark|        NY|United States|   11001|(123)686-0000|     SLe@example.com|2018-04-21 12:49:02|\n",
      "|         13863|   Entertainment|            73.23|4210653326086223|         83|123457282|2018-03-27|123457282|   Adeline|    ernesto|   Ventura|  Redwood Drive,722|FloralPark|        NY|United States|   11001|(124)321-4000|AVentura@example.com|2018-04-21 12:49:02|\n",
      "|         20789|           Bills|            52.86|4210653364243847|         40|123456057|2018-03-27|123456057|  Pasquale|    chelsey|   Navarro| Beechwood Drive,12|FloralPark|        NY|United States|   11001|(123)782-0000|PNavarro@example.com|2018-04-21 12:49:02|\n",
      "|         13865|         Grocery|            79.19|4210653326086223|         17|123457282|2018-03-25|123457282|   Adeline|    ernesto|   Ventura|  Redwood Drive,722|FloralPark|        NY|United States|   11001|(124)321-4000|AVentura@example.com|2018-04-21 12:49:02|\n",
      "|         20795|      Healthcare|             1.91|4210653364243847|         95|123456057|2018-03-24|123456057|  Pasquale|    chelsey|   Navarro| Beechwood Drive,12|FloralPark|        NY|United States|   11001|(123)782-0000|PNavarro@example.com|2018-04-21 12:49:02|\n",
      "|         25316|      Healthcare|            37.81|4210653330232163|          4|123455098|2018-03-24|123455098|      Oren|      wyatt|Strickland|    Maiden Lane,985|FloralPark|        NY|United States|   11001|(123)888-4000|OStrickland@examp...|2018-04-21 12:49:02|\n",
      "|         20185|       Education|            59.48|4210653372873067|          7|123456153|2018-03-23|123456153|   Forrest|     werner|Richardson|  Taylor Street,824|FloralPark|        NY|United States|   11001|(123)935-0000|FRichardson@examp...|2018-04-21 12:49:02|\n",
      "|          6644|             Gas|            33.26|4210653330212793|          1|123458616|2018-03-23|123458616|     Paige|      james|    Dubois|    Laurel Lane,980|FloralPark|        NY|United States|   11001|(124)075-0000| PDubois@example.com|2018-04-21 12:49:02|\n",
      "|         13872|            Test|            68.79|4210653326086223|         31|123457282|2018-03-23|123457282|   Adeline|    ernesto|   Ventura|  Redwood Drive,722|FloralPark|        NY|United States|   11001|(124)321-4000|AVentura@example.com|2018-04-21 12:49:02|\n",
      "|         20105|      Healthcare|            73.13|4210653372873067|        121|123456153|2018-03-23|123456153|   Forrest|     werner|Richardson|  Taylor Street,824|FloralPark|        NY|United States|   11001|(123)935-0000|FRichardson@examp...|2018-04-21 12:49:02|\n",
      "|         20808|   Entertainment|            91.51|4210653364243847|         60|123456057|2018-03-22|123456057|  Pasquale|    chelsey|   Navarro| Beechwood Drive,12|FloralPark|        NY|United States|   11001|(123)782-0000|PNavarro@example.com|2018-04-21 12:49:02|\n",
      "|         27688|           Bills|            83.45|4210653327091690|         81|123454634|2018-03-22|123454634|      Dong|     tamika|      Kang|   Locust Street,18|FloralPark|        NY|United States|   11001|(123)818-2000|   DKang@example.com|2018-04-21 12:49:02|\n",
      "|         13932|             Gas|            50.73|4210653326086223|         16|123457282|2018-03-22|123457282|   Adeline|    ernesto|   Ventura|  Redwood Drive,722|FloralPark|        NY|United States|   11001|(124)321-4000|AVentura@example.com|2018-04-21 12:49:02|\n",
      "|         25277|      Healthcare|            93.91|4210653330232163|         50|123455098|2018-03-22|123455098|      Oren|      wyatt|Strickland|    Maiden Lane,985|FloralPark|        NY|United States|   11001|(123)888-4000|OStrickland@examp...|2018-04-21 12:49:02|\n",
      "|         20790|           Bills|            63.69|4210653364243847|        123|123456057|2018-03-21|123456057|  Pasquale|    chelsey|   Navarro| Beechwood Drive,12|FloralPark|        NY|United States|   11001|(123)782-0000|PNavarro@example.com|2018-04-21 12:49:02|\n",
      "|         13909|   Entertainment|            88.44|4210653326086223|        168|123457282|2018-03-21|123457282|   Adeline|    ernesto|   Ventura|  Redwood Drive,722|FloralPark|        NY|United States|   11001|(124)321-4000|AVentura@example.com|2018-04-21 12:49:02|\n",
      "|          7280|           Bills|            30.71|4210653344857749|         47|123458499|2018-03-19|123458499|    Willie|     marcie|     Myers| Hillside Drive,381|FloralPark|        NY|United States|   11001|(123)736-6000|  WMyers@example.com|2018-04-21 12:49:02|\n",
      "|         20165|       Education|            69.01|4210653372873067|         40|123456153|2018-03-19|123456153|   Forrest|     werner|Richardson|  Taylor Street,824|FloralPark|        NY|United States|   11001|(123)935-0000|FRichardson@examp...|2018-04-21 12:49:02|\n",
      "|         27714|            Test|             85.8|4210653327091690|          4|123454634|2018-03-19|123454634|      Dong|     tamika|      Kang|   Locust Street,18|FloralPark|        NY|United States|   11001|(123)818-2000|   DKang@example.com|2018-04-21 12:49:02|\n",
      "|         27679|   Entertainment|            64.34|4210653327091690|        156|123454634|2018-03-18|123454634|      Dong|     tamika|      Kang|   Locust Street,18|FloralPark|        NY|United States|   11001|(123)818-2000|   DKang@example.com|2018-04-21 12:49:02|\n",
      "+--------------+----------------+-----------------+----------------+-----------+---------+----------+---------+----------+-----------+----------+-------------------+----------+----------+-------------+--------+-------------+--------------------+-------------------+\n",
      "only showing top 20 rows\n",
      "\n"
     ]
    }
   ],
   "source": [
    "#and last_updated='2018-04-21 12:49:02' order by EXTRACT(DAY FROM last_updated) desc\n",
    "query2=\"select * from df_credit join df_cust on df_cust.ssn=df_credit.cust_ssn where df_cust.cust_zip='11001' \\\n",
    "and month(timeid)=3 and year(timeid)= 2018 order by day(timeid) desc\"\n",
    "df_trans=spark.sql(query2)\n",
    "df_trans.show()"
   ]
  },
  {
   "attachments": {},
   "cell_type": "markdown",
   "metadata": {},
   "source": [
    "2)    Used to display the number and total values of transactions for a given type.\n",
    "3)    Used to display the total number and total values of transactions for branches in a given state."
   ]
  },
  {
   "cell_type": "code",
   "execution_count": 12,
   "metadata": {},
   "outputs": [
    {
     "name": "stdout",
     "output_type": "stream",
     "text": [
      "+--------+-----------+\n",
      "|count(1)|total_value|\n",
      "+--------+-----------+\n",
      "|    6638|  337980.07|\n",
      "+--------+-----------+\n",
      "\n"
     ]
    }
   ],
   "source": [
    "spark.sql(\"select count(*),round(sum(transaction_value),2) as total_value from df_credit where transaction_type='Education'\").show()"
   ]
  },
  {
   "cell_type": "code",
   "execution_count": 13,
   "metadata": {},
   "outputs": [
    {
     "name": "stdout",
     "output_type": "stream",
     "text": [
      "+--------+-----------+\n",
      "|count(1)|total_Value|\n",
      "+--------+-----------+\n",
      "|    2439|   124708.3|\n",
      "+--------+-----------+\n",
      "\n"
     ]
    }
   ],
   "source": [
    "query=\"select count(*),round(sum(transaction_value),2) as total_Value from df_credit join df_branch \\\n",
    "on df_credit.branch_code= df_branch.branch_code where branch_state='IL'\"\n",
    "spark.sql(query).show()"
   ]
  },
  {
   "attachments": {},
   "cell_type": "markdown",
   "metadata": {},
   "source": [
    "## CUSTOMER DETAILS\n",
    "1) Used to check the existing account details of a customer.\n",
    "2) Used to modify the existing account details of a customer.\n",
    "3) Used to generate a monthly bill for a credit card number for a given month and year.\n",
    "4) Used to display the transactions made by a customer between two dates. Order by year, month, and day in descending order"
   ]
  },
  {
   "cell_type": "code",
   "execution_count": 14,
   "metadata": {},
   "outputs": [
    {
     "name": "stdout",
     "output_type": "stream",
     "text": [
      "+--------------+----------------+-----------------+----------------+-----------+---------+----------+---------+----------+-----------+---------+-------------------+----------+----------+-------------+--------+-------------+---------------+-------------------+-----------+------------+----------------+------------+------------+----------+-------------+-------------------+\n",
      "|TRANSACTION_ID|TRANSACTION_TYPE|TRANSACTION_VALUE|  CREDIT_CARD_NO|BRANCH_CODE| CUST_SSN|    TIMEID|      SSN|FIRST_NAME|MIDDLE_NAME|LAST_NAME|FULL_STREET_ADDRESS| CUST_CITY|CUST_STATE| CUST_COUNTRY|CUST_ZIP|   CUST_PHONE|     CUST_EMAIL|       LAST_UPDATED|BRANCH_CODE| BRANCH_NAME|   BRANCH_STREET| BRANCH_CITY|BRANCH_STATE|BRANCH_ZIP| BRANCH_PHONE|       LAST_UPDATED|\n",
      "+--------------+----------------+-----------------+----------------+-----------+---------+----------+---------+----------+-----------+---------+-------------------+----------+----------+-------------+--------+-------------+---------------+-------------------+-----------+------------+----------------+------------+------------+----------+-------------+-------------------+\n",
      "|         17384|      Healthcare|            51.29|4210653395351413|         81|123456703|2018-03-27|123456703|     Selma|      elroy|       Le|4th Street West,801|FloralPark|        NY|United States|   11001|(123)686-0000|SLe@example.com|2018-04-21 12:49:02|         81|Example Bank|   Summer Street|Simpsonville|          SC|     29680|(123)458-3583|2018-04-18 16:51:47|\n",
      "|         17379|       Education|            55.28|4210653395351413|         52|123456703|2018-07-23|123456703|     Selma|      elroy|       Le|4th Street West,801|FloralPark|        NY|United States|   11001|(123)686-0000|SLe@example.com|2018-04-21 12:49:02|         52|Example Bank|   Fulton Street|      ElPaso|          TX|     79930|(123)424-5465|2018-04-18 16:51:47|\n",
      "|         17377|      Healthcare|             8.03|4210653395351413|         19|123456703|2018-07-09|123456703|     Selma|      elroy|       Le|4th Street West,801|FloralPark|        NY|United States|   11001|(123)686-0000|SLe@example.com|2018-04-21 12:49:02|         19|Example Bank|     King Street|SilverSpring|          MD|     20901|(123)448-4380|2018-04-18 16:51:47|\n",
      "|         17378|   Entertainment|            54.16|4210653395351413|         43|123456703|2018-11-17|123456703|     Selma|      elroy|       Le|4th Street West,801|FloralPark|        NY|United States|   11001|(123)686-0000|SLe@example.com|2018-04-21 12:49:02|         43|Example Bank|    Ashley Court|     Houston|          TX|     77016|(123)475-5992|2018-04-18 16:51:47|\n",
      "|         17385|             Gas|            76.85|4210653395351413|        175|123456703|2018-12-08|123456703|     Selma|      elroy|       Le|4th Street West,801|FloralPark|        NY|United States|   11001|(123)686-0000|SLe@example.com|2018-04-21 12:49:02|        175|Example Bank| Garfield Avenue|  FloralPark|          NY|     11001|(123)484-2967|2018-04-18 16:51:47|\n",
      "|         17380|         Grocery|            24.35|4210653395351413|          4|123456703|2018-11-04|123456703|     Selma|      elroy|       Le|4th Street West,801|FloralPark|        NY|United States|   11001|(123)686-0000|SLe@example.com|2018-04-21 12:49:02|          4|Example Bank|Cleveland Street|  Middleburg|          FL|     32068|(123)466-3064|2018-04-18 16:51:47|\n",
      "|         17375|           Bills|             92.2|4210653395351413|         24|123456703|2018-10-02|123456703|     Selma|      elroy|       Le|4th Street West,801|FloralPark|        NY|United States|   11001|(123)686-0000|SLe@example.com|2018-04-21 12:49:02|         24|Example Bank|    Grove Street|     Redford|          MI|     48239|(123)461-7414|2018-04-18 16:51:47|\n",
      "|         17381|      Healthcare|            26.05|4210653395351413|        156|123456703|2018-08-08|123456703|     Selma|      elroy|       Le|4th Street West,801|FloralPark|        NY|United States|   11001|(123)686-0000|SLe@example.com|2018-04-21 12:49:02|        156|Example Bank|    Adams Street| WestChester|          PA|     19380|(123)454-8652|2018-04-18 16:51:47|\n",
      "|         17376|   Entertainment|            41.56|4210653395351413|        156|123456703|2018-05-28|123456703|     Selma|      elroy|       Le|4th Street West,801|FloralPark|        NY|United States|   11001|(123)686-0000|SLe@example.com|2018-04-21 12:49:02|        156|Example Bank|    Adams Street| WestChester|          PA|     19380|(123)454-8652|2018-04-18 16:51:47|\n",
      "|         17382|       Education|             80.2|4210653395351413|         99|123456703|2018-03-03|123456703|     Selma|      elroy|       Le|4th Street West,801|FloralPark|        NY|United States|   11001|(123)686-0000|SLe@example.com|2018-04-21 12:49:02|         99|Example Bank|   Bridge Street|     Seymour|          IN|     47274|(123)416-4581|2018-04-18 16:51:47|\n",
      "|         17383|             Gas|            57.45|4210653395351413|        104|123456703|2018-04-21|123456703|     Selma|      elroy|       Le|4th Street West,801|FloralPark|        NY|United States|   11001|(123)686-0000|SLe@example.com|2018-04-21 12:49:02|        104|Example Bank| Cambridge Court|      Owosso|          MI|     48867|(123)490-9907|2018-04-18 16:51:47|\n",
      "+--------------+----------------+-----------------+----------------+-----------+---------+----------+---------+----------+-----------+---------+-------------------+----------+----------+-------------+--------+-------------+---------------+-------------------+-----------+------------+----------------+------------+------------+----------+-------------+-------------------+\n",
      "\n"
     ]
    }
   ],
   "source": [
    "query=\"select * from df_credit join df_cust on df_cust.ssn=df_credit.cust_ssn \\\n",
    "join df_branch on df_credit.branch_code=df_branch.branch_code\\\n",
    " where df_cust.ssn=123456703\"\n",
    "spark.sql(query).show()"
   ]
  },
  {
   "cell_type": "code",
   "execution_count": null,
   "metadata": {},
   "outputs": [],
   "source": []
  }
 ],
 "metadata": {
  "kernelspec": {
   "display_name": "base",
   "language": "python",
   "name": "python3"
  },
  "language_info": {
   "codemirror_mode": {
    "name": "ipython",
    "version": 3
   },
   "file_extension": ".py",
   "mimetype": "text/x-python",
   "name": "python",
   "nbconvert_exporter": "python",
   "pygments_lexer": "ipython3",
   "version": "3.9.7"
  },
  "orig_nbformat": 4
 },
 "nbformat": 4,
 "nbformat_minor": 2
}
