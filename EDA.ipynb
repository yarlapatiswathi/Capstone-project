{
 "cells": [
  {
   "cell_type": "code",
   "execution_count": 1,
   "metadata": {},
   "outputs": [],
   "source": [
    "from pyspark.sql import SparkSession\n",
    "from pyspark.sql.types import *\n",
    "from pyspark.sql.functions import *\n",
    "from datetime import datetime\n",
    "import mysql.connector\n",
    "spark=SparkSession.builder.master('local[1]').appName('Credit Card Management System').getOrCreate()"
   ]
  },
  {
   "cell_type": "code",
   "execution_count": null,
   "metadata": {},
   "outputs": [],
   "source": [
    "mydb = mysql.connector.connect(\n",
    "  host=\"localhost\",\n",
    "  user=\"root\",\n",
    "  password=\"admin\",\n",
    "  database=\"creditcard_capstone\"\n",
    ")\n",
    "mycursor = mydb.cursor()"
   ]
  },
  {
   "cell_type": "code",
   "execution_count": 19,
   "metadata": {},
   "outputs": [],
   "source": [
    "def spark_read(table):\n",
    "    temp=spark.read\\\n",
    "            .format(\"jdbc\")\\\n",
    "            .option(\"driver\",\"com.mysql.cj.jdbc.Driver\")\\\n",
    "            .option(\"url\", \"jdbc:mysql://localhost:3306/creditcard_capstone\")\\\n",
    "            .option(\"dbtable\", table)\\\n",
    "            .option(\"user\", \"root\")\\\n",
    "            .option(\"password\", \"admin\")\\\n",
    "            .load()\n",
    "    return temp"
   ]
  },
  {
   "cell_type": "code",
   "execution_count": 20,
   "metadata": {},
   "outputs": [],
   "source": [
    "# Customer account details\n",
    "df_cust=spark_read(\"cdw_sapp_customer\")\n",
    "df_cust.createOrReplaceTempView('df_cust')\n",
    "# Branch details\n",
    "df_branch = spark_read(\"cdw_sapp_branch\")\n",
    "df_branch.createOrReplaceTempView('df_branch')\n",
    "#credit card details\n",
    "df_credit = spark_read(\"cdw_sapp_credit_card\")\n",
    "df_credit.createOrReplaceTempView('df_credit')"
   ]
  },
  {
   "attachments": {},
   "cell_type": "markdown",
   "metadata": {},
   "source": [
    "## TRANSACTION DETAILS\n",
    "1)    Used to display the transactions made by customers living in a given zip code for a given month and year. Order by day in descending order."
   ]
  },
  {
   "cell_type": "code",
   "execution_count": 10,
   "metadata": {},
   "outputs": [],
   "source": [
    "#and last_updated='2018-04-21 12:49:02' order by EXTRACT(DAY FROM last_updated) desc\n",
    "def customer_transactions():\n",
    "    try:\n",
    "        zipcode=int(input('Enter the zipcode of location you want to analyze: '))\n",
    "        month=int(input('Enter month number: '))\n",
    "        year=int(input('Enter year'))\n",
    "        query=f\"select * from df_credit join df_cust on df_cust.ssn=df_credit.cust_ssn where df_cust.cust_zip={zipcode} \\\n",
    "        and month(timeid)={month} and year(timeid)= {year} order by day(timeid) desc\"\n",
    "        df_trans=spark.sql(query)\n",
    "        df_trans.show()\n",
    "    except Exception as e:\n",
    "        print(\"Please try to enter valid details\\n\",e)\n"
   ]
  },
  {
   "attachments": {},
   "cell_type": "markdown",
   "metadata": {},
   "source": [
    "2)    Used to display the number and total values of transactions for a given type."
   ]
  },
  {
   "cell_type": "code",
   "execution_count": 11,
   "metadata": {},
   "outputs": [],
   "source": [
    "#spark.sql(\"select count(*),round(sum(transaction_value),2) as total_value from df_credit where transaction_type='Education'\").show()\n",
    "\n",
    "def transaction_value():\n",
    "    try:\n",
    "        type=input('Enter the type of transaction: ').title()\n",
    "        query=f\"select count(*),round(sum(transaction_value),2) as total_value from df_credit where transaction_type='{type}'\"\n",
    "        df_value=spark.sql(query)\n",
    "        df_value.show()\n",
    "    except Exception as e:\n",
    "        print('Please enter a valid Transaction Type')"
   ]
  },
  {
   "attachments": {},
   "cell_type": "markdown",
   "metadata": {},
   "source": [
    "3)    Used to display the total number and total values of transactions for branches in a given state."
   ]
  },
  {
   "cell_type": "code",
   "execution_count": 12,
   "metadata": {},
   "outputs": [],
   "source": [
    "def branch_transactions():\n",
    "    try:\n",
    "        state=input(\"Enter a State code to find its transaction details: \").upper()\n",
    "        query=f\"select count(*),round(sum(transaction_value),2) as total_Value from df_credit join df_branch \\\n",
    "        on df_credit.branch_code= df_branch.branch_code where branch_state='{state}'\"\n",
    "        spark.sql(query).show()\n",
    "    except Exception as e:\n",
    "        print(\"Please enter valid State code\")"
   ]
  },
  {
   "attachments": {},
   "cell_type": "markdown",
   "metadata": {},
   "source": [
    "## CUSTOMER DETAILS\n",
    "4) Used to check the existing account details of a customer."
   ]
  },
  {
   "cell_type": "code",
   "execution_count": null,
   "metadata": {},
   "outputs": [],
   "source": [
    "def cust_acct_details():\n",
    "    ssn=int(input(\"Enter customer SSN: \"))\n",
    "    query=f\"select * from df_credit join df_cust on df_cust.ssn=df_credit.cust_ssn \\\n",
    "    join df_branch on df_credit.branch_code=df_branch.branch_code\\\n",
    "    where df_cust.ssn={ssn}\"\n",
    "    spark.sql(query).show()"
   ]
  },
  {
   "attachments": {},
   "cell_type": "markdown",
   "metadata": {},
   "source": [
    "5) Used to modify the existing account details of a customer."
   ]
  },
  {
   "cell_type": "code",
   "execution_count": null,
   "metadata": {},
   "outputs": [],
   "source": [
    "def modify_acct():\n",
    "    ssn=int(input(\"Enter customer SSN: \"))\n",
    "    column=input(\"Enter column name which you want to update: \")\n",
    "    new_value=input(\"Enter value you want to update: \")\n",
    "    query = f\"UPDATE cdw_sapp_customer SET {column} = '{new_value}' WHERE ssn = {ssn}\"\n",
    "    mycursor.execute(query)\n",
    "    mydb.commit()\n",
    "    print(mycursor.rowcount, \"record(s) affected\")\n",
    "    df_cust.createOrReplaceTempView('df_cust')\n",
    "    query=f'select * from df_cust where ssn={ssn}'\n",
    "    spark.sql(query).show()"
   ]
  },
  {
   "attachments": {},
   "cell_type": "markdown",
   "metadata": {},
   "source": [
    "6) Used to generate a monthly bill for a credit card number for a given month and year."
   ]
  },
  {
   "cell_type": "code",
   "execution_count": null,
   "metadata": {},
   "outputs": [],
   "source": [
    "def ccno_monthly_bill():\n",
    "    ccno=input(\"Enter the credit card number to generate monthly bill: \")\n",
    "    mnth=int(input(\"Enter the Month: \"))\n",
    "    yr=int(input(\"Enter year\"))\n",
    "    query=f\"select SUM(Transaction_value) as Montly_Bill from df_credit where MONTH(TIMEID)={mnth} and YEAR(TIMEID)={yr} and credit_card_no={ccno}\"\n",
    "    spark.sql(query).show()"
   ]
  },
  {
   "attachments": {},
   "cell_type": "markdown",
   "metadata": {},
   "source": [
    "7) Used to display the transactions made by a customer between two dates. Order by year, month, and day in descending order"
   ]
  },
  {
   "cell_type": "code",
   "execution_count": null,
   "metadata": {},
   "outputs": [],
   "source": [
    "def trans_btw_dates():\n",
    "    ssn=input(\"Enter the customer ssn number to generate monthly bill: \")\n",
    "    start_date=datetime.strptime(input(\"Enter the start date: \"),'%Y-%m-%d').date()\n",
    "    end_date=datetime.strptime(input(\"Enter the end date: \"),'%Y-%m-%d').date()\n",
    "    query=f\"select * from df_credit where cust_ssn = '{ssn}' and timeid >= '{start_date}' and timeid <= '{end_date}' \\\n",
    "    order by year(timeid) desc, month(timeid) desc, day(timeid) desc\"\n",
    "    spark.sql(query).show()"
   ]
  },
  {
   "cell_type": "code",
   "execution_count": 44,
   "metadata": {},
   "outputs": [],
   "source": [
    "while True:\n",
    "    id=int(input('''What do you want to analyze?\n",
    "            1. Display transactions made by customers in a given zipcode for a given month and year.\n",
    "            2. count and total values based on transaction type\n",
    "            3. count and total values of transactions for branches in given state\n",
    "            4. Check the Account Details of a customer\n",
    "            5. To modify existing account details of a customer\n",
    "            6. To generate monthly bill for a credit card number for a given month and year\n",
    "            7. Display the transactions made by a customer between two dates. Order by year, month, and day in descending order\n",
    "          '''))\n",
    "    if id==1:\n",
    "        customer_transactions()\n",
    "        break\n",
    "    elif id==2:\n",
    "        transaction_value()\n",
    "        break\n",
    "    elif id==3:\n",
    "        branch_transactions()\n",
    "        break\n",
    "    elif id==4:\n",
    "        cust_acct_details()\n",
    "        break\n",
    "    elif id==5:\n",
    "        modify_acct()\n",
    "        break\n",
    "    elif id==6:\n",
    "        ccno_monthly_bill()\n",
    "        break\n",
    "    elif id==7:\n",
    "        trans_btw_dates()\n",
    "        break\n",
    "    else:\n",
    "        print(\"choose between 1 and 7\")"
   ]
  },
  {
   "cell_type": "code",
   "execution_count": null,
   "metadata": {},
   "outputs": [],
   "source": []
  }
 ],
 "metadata": {
  "kernelspec": {
   "display_name": "base",
   "language": "python",
   "name": "python3"
  },
  "language_info": {
   "codemirror_mode": {
    "name": "ipython",
    "version": 3
   },
   "file_extension": ".py",
   "mimetype": "text/x-python",
   "name": "python",
   "nbconvert_exporter": "python",
   "pygments_lexer": "ipython3",
   "version": "3.9.7"
  },
  "orig_nbformat": 4
 },
 "nbformat": 4,
 "nbformat_minor": 2
}
