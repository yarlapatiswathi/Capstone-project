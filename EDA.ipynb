{
 "cells": [
  {
   "cell_type": "code",
   "execution_count": 1,
   "metadata": {},
   "outputs": [],
   "source": [
    "import config\n",
    "import pyspark\n",
    "from pyspark.sql import SparkSession\n",
    "from pyspark.sql.types import *\n",
    "from pyspark.sql.functions import *\n",
    "from datetime import datetime\n",
    "import mysql.connector\n",
    "spark=SparkSession.builder.master('local[*]').appName('Credit Card Management System').getOrCreate()\n",
    "#ConnectionRefusedError: [WinError 10061] No connection could be made because the target machine actively refused it\n",
    "# Restarting the kernel might solve this issue"
   ]
  },
  {
   "cell_type": "code",
   "execution_count": 2,
   "metadata": {},
   "outputs": [],
   "source": [
    "mydb = mysql.connector.connect(\n",
    "  host=config.host_name,\n",
    "  user=config.db_user,\n",
    "  password=config.db_pwd,\n",
    "  database=\"creditcard_capstone\"\n",
    ")\n",
    "mycursor = mydb.cursor()"
   ]
  },
  {
   "cell_type": "code",
   "execution_count": 3,
   "metadata": {},
   "outputs": [],
   "source": [
    "def spark_read(table):\n",
    "    temp=spark.read\\\n",
    "            .format(\"jdbc\")\\\n",
    "            .option(\"driver\",\"com.mysql.cj.jdbc.Driver\")\\\n",
    "            .option(\"url\", \"jdbc:mysql://localhost:3306/creditcard_capstone\")\\\n",
    "            .option(\"dbtable\", table)\\\n",
    "            .option(\"user\", \"root\")\\\n",
    "            .option(\"password\", \"admin\")\\\n",
    "            .load()\n",
    "    return temp"
   ]
  },
  {
   "cell_type": "code",
   "execution_count": 4,
   "metadata": {},
   "outputs": [],
   "source": [
    "# Customer account details\n",
    "df_cust=spark_read(\"cdw_sapp_customer\")\n",
    "df_cust.createOrReplaceTempView('df_cust')\n",
    "# Branch details\n",
    "df_branch = spark_read(\"cdw_sapp_branch\")\n",
    "df_branch.createOrReplaceTempView('df_branch')\n",
    "#credit card details\n",
    "df_credit = spark_read(\"cdw_sapp_credit_card\")\n",
    "df_credit.createOrReplaceTempView('df_credit')\n",
    "#date_dim\n",
    "date_dim = spark_read(\"date_dim\")\n",
    "date_dim.createOrReplaceTempView('date_dim')"
   ]
  },
  {
   "attachments": {},
   "cell_type": "markdown",
   "metadata": {},
   "source": [
    "## TRANSACTION DETAILS\n",
    "1)    Used to display the transactions made by customers living in a given zip code for a given month and year. Order by day in descending order."
   ]
  },
  {
   "cell_type": "code",
   "execution_count": 5,
   "metadata": {},
   "outputs": [],
   "source": [
    "def customer_transactions():\n",
    "    try:\n",
    "        zipcode=int(input('Enter the zipcode of location you want to analyze: '))\n",
    "        month=int(input('Enter month number: '))\n",
    "        year=int(input('Enter year'))\n",
    "        query=f\"select cr.TRANSACTION_ID,cr.CUST_CC_NO,cr.TRANSACTION_TYPE,cr.TRANSACTION_VALUE,cr.BRANCH_CODE,cr.CUST_SSN,\\\n",
    "                                        cu.FIRST_NAME,cu.LAST_NAME,cu.cust_zip,dd.calender_date\\\n",
    "                                        from df_credit cr join df_cust cu on cu.ssn=cr.cust_ssn \\\n",
    "                                        join date_dim dd on cr.timeid=dd.timeid \\\n",
    "                                        where cu.cust_zip={zipcode} \\\n",
    "        and dd.month_no={month} and year(dd.calender_date)= {year} order by dd.calender_date desc\"\n",
    "        df_trans=spark.sql(query)\n",
    "        df_trans.show()\n",
    "    except Exception as e:\n",
    "        print(\"Please try to enter valid details\\n\",e)\n"
   ]
  },
  {
   "attachments": {},
   "cell_type": "markdown",
   "metadata": {},
   "source": [
    "2)    Used to display the number and total values of transactions for a given type."
   ]
  },
  {
   "cell_type": "code",
   "execution_count": 6,
   "metadata": {},
   "outputs": [],
   "source": [
    "def transaction_value():\n",
    "    try:\n",
    "        type=input('Enter the type of transaction: ').title()\n",
    "        query=f\"select count(*) as No_of_Transactions,round(sum(transaction_value),2) as Total_Value from df_credit where transaction_type='{type}'\"\n",
    "        df_value=spark.sql(query)\n",
    "        df_value.show()\n",
    "    except Exception as e:\n",
    "        print('Please enter a valid Transaction Type')"
   ]
  },
  {
   "attachments": {},
   "cell_type": "markdown",
   "metadata": {},
   "source": [
    "3)    Used to display the total number and total values of transactions for branches in a given state."
   ]
  },
  {
   "cell_type": "code",
   "execution_count": 28,
   "metadata": {},
   "outputs": [
    {
     "name": "stdout",
     "output_type": "stream",
     "text": [
      "select df_credit.branch_code, count(*) as No_of_Transactions,round(sum(transaction_value),2) as Total_Value,max(branch_state) as Branch_State from df_credit join df_branch         on df_credit.branch_code= df_branch.branch_code where branch_state='NY' group by df_credit.branch_code\n",
      "+-----------+------------------+-----------+------------+\n",
      "|branch_code|No_of_Transactions|Total_Value|Branch_State|\n",
      "+-----------+------------------+-----------+------------+\n",
      "|          3|               431|   21749.91|          NY|\n",
      "|          8|               431|   21809.74|          NY|\n",
      "|         16|               434|   22766.42|          NY|\n",
      "|         46|               445|   23507.66|          NY|\n",
      "|         66|               412|   21723.45|          NY|\n",
      "|         93|               416|   21698.67|          NY|\n",
      "|        135|               383|   20710.99|          NY|\n",
      "|        160|               400|   20257.59|          NY|\n",
      "|        175|               393|   20524.62|          NY|\n",
      "|        178|               398|   18968.33|          NY|\n",
      "+-----------+------------------+-----------+------------+\n",
      "\n"
     ]
    }
   ],
   "source": [
    "def branch_transactions():\n",
    "    try:\n",
    "        state=input(\"Enter a State code to find its transaction details: \").upper()\n",
    "        query1=f\"select df_credit.branch_code, count(*) as No_of_Transactions,round(sum(transaction_value),2) as Total_Value,max(branch_state) as Branch_State from df_credit join df_branch \\\n",
    "        on df_credit.branch_code= df_branch.branch_code where branch_state='{state}' group by df_credit.branch_code\"\n",
    "        print(query1)\n",
    "        # query2=f\"select count(*) as No_of_Transactions,round(sum(transaction_value),2) as Total_Value from df_credit join df_branch \\\n",
    "        # on df_credit.branch_code= df_branch.branch_code where branch_state='{state}'\"\n",
    "        spark.sql(query1).show()\n",
    "        # spark.sql(query2).show()\n",
    "    except Exception as e:\n",
    "        print(\"Please enter valid State code\")\n",
    "branch_transactions()"
   ]
  },
  {
   "attachments": {},
   "cell_type": "markdown",
   "metadata": {},
   "source": [
    "## CUSTOMER DETAILS\n",
    "4) Used to check the existing account details of a customer."
   ]
  },
  {
   "cell_type": "code",
   "execution_count": 8,
   "metadata": {},
   "outputs": [],
   "source": [
    "def cust_acct_details():\n",
    "    try:\n",
    "        ssn=int(input(\"Enter customer SSN: \"))\n",
    "        query=f\"select cu.SSN,cu.FIRST_NAME,cu.LAST_NAME,cr.TRANSACTION_ID,cr.TRANSACTION_TYPE,cr.TRANSACTION_VALUE,br.* \\\n",
    "            from df_credit cr join df_cust cu on cu.ssn=cr.cust_ssn \\\n",
    "        join df_branch br on cr.branch_code=br.branch_code\\\n",
    "        where cu.ssn={ssn}\"\n",
    "        spark.sql(query).show()\n",
    "    except Exception as e:\n",
    "        print(\"Please enter valid customer ssn\")"
   ]
  },
  {
   "attachments": {},
   "cell_type": "markdown",
   "metadata": {},
   "source": [
    "5) Used to modify the existing account details of a customer."
   ]
  },
  {
   "cell_type": "code",
   "execution_count": 9,
   "metadata": {},
   "outputs": [],
   "source": [
    "def modify_acct():\n",
    "    try:\n",
    "        ssn=int(input(\"Enter customer SSN: \"))\n",
    "        column=input(\"Enter column name which you want to update: \")\n",
    "        new_value=input(\"Enter value you want to update: \")\n",
    "        query = f\"UPDATE cdw_sapp_customer SET {column} = '{new_value}' WHERE ssn = {ssn}\"\n",
    "        mycursor.execute(query)\n",
    "        mydb.commit()\n",
    "        print(mycursor.rowcount, \"record(s) affected\")\n",
    "        df_cust.createOrReplaceTempView('df_cust')\n",
    "        query=f'select * from df_cust where ssn={ssn}'\n",
    "        spark.sql(query).show()\n",
    "    except Exception as e:\n",
    "        print(\"Please enter valid details\")"
   ]
  },
  {
   "attachments": {},
   "cell_type": "markdown",
   "metadata": {},
   "source": [
    "6) Used to generate a monthly bill for a credit card number for a given month and year."
   ]
  },
  {
   "cell_type": "code",
   "execution_count": 10,
   "metadata": {},
   "outputs": [],
   "source": [
    "def ccno_monthly_bill():\n",
    "    try:\n",
    "        ccno=input(\"Enter the credit card number to generate monthly bill: \")\n",
    "        mnth=int(input(\"Enter the Month: \"))\n",
    "        yr=int(input(\"Enter year\"))\n",
    "        query=f\"select SUM(Transaction_value) as Montly_Bill from df_credit join date_dim \\\n",
    "                on df_credit.timeid=date_dim.timeid\\\n",
    "                where date_dim.month_no={mnth} and YEAR(date_dim.calender_date)={yr} and cust_cc_no={ccno}\"\n",
    "        spark.sql(query).show()\n",
    "    except Exception as e:\n",
    "        print(\"Please enter valid details\")"
   ]
  },
  {
   "attachments": {},
   "cell_type": "markdown",
   "metadata": {},
   "source": [
    "7) Used to display the transactions made by a customer between two dates. Order by year, month, and day in descending order"
   ]
  },
  {
   "cell_type": "code",
   "execution_count": 11,
   "metadata": {},
   "outputs": [],
   "source": [
    "def trans_btw_dates():\n",
    "    try:\n",
    "        ssn=input(\"Enter the customer ssn number to generate monthly bill: \")\n",
    "        start_date=input(\"Enter the start date: \")\n",
    "        end_date=input(\"Enter the end date: \")\n",
    "        query=f\"select * from df_credit dc join date_dim dd on dc.timeid=dd.timeid where cust_ssn = '{ssn}' \\\n",
    "                and dd.calender_date between '{start_date}' and '{end_date}' order by dd.calender_date desc\"\n",
    "        spark.sql(query).show()\n",
    "    except Exception as e:\n",
    "        print(\"Please enter valid details\")"
   ]
  },
  {
   "attachments": {},
   "cell_type": "markdown",
   "metadata": {},
   "source": []
  },
  {
   "cell_type": "code",
   "execution_count": 12,
   "metadata": {},
   "outputs": [
    {
     "name": "stdout",
     "output_type": "stream",
     "text": [
      "Please enter valid State code\n"
     ]
    }
   ],
   "source": [
    "condition=True\n",
    "while condition:\n",
    "    try:\n",
    "        id=int(input('''What do you want to analyze?\n",
    "                1. Display transactions made by customers in a given zipcode for a given month and year.\n",
    "                2. count and total values based on transaction type\n",
    "                3. count and total values of transactions for branches in given state\n",
    "                4. Check the Account Details of a customer\n",
    "                5. To modify existing account details of a customer\n",
    "                6. To generate monthly bill for a credit card number for a given month and year\n",
    "                7. Display the transactions made by a customer between two dates. Order by year, month, and day in descending order\n",
    "            '''))\n",
    "        choices={1:customer_transactions,2:transaction_value,3:branch_transactions,4:cust_acct_details,5:modify_acct,\n",
    "                6:ccno_monthly_bill,7:trans_btw_dates}\n",
    "        if id in choices.keys():\n",
    "            choices[id]()\n",
    "        else:\n",
    "            if input(\"Do you want to continue(y/n): \")!='y':\n",
    "                condition=False\n",
    "    except Exception as e:\n",
    "        print(\"Something went wrong, Please try again\")\n",
    "\n"
   ]
  },
  {
   "cell_type": "code",
   "execution_count": 13,
   "metadata": {},
   "outputs": [],
   "source": [
    "    # if id==1:\n",
    "    #     customer_transactions()\n",
    "    #     break\n",
    "    # elif id==2:\n",
    "    #     transaction_value()\n",
    "    #     break\n",
    "    # elif id==3:\n",
    "    #     branch_transactions()\n",
    "    #     break\n",
    "    # elif id==4:\n",
    "    #     cust_acct_details()\n",
    "    #     break\n",
    "    # elif id==5:\n",
    "    #     modify_acct()\n",
    "    #     break\n",
    "    # elif id==6:\n",
    "    #     ccno_monthly_bill()\n",
    "    #     break\n",
    "    # elif id==7:\n",
    "    #     trans_btw_dates()\n",
    "    #     break\n",
    "    # else:\n",
    "    #     print(\"choose between 1 and 7\")"
   ]
  }
 ],
 "metadata": {
  "kernelspec": {
   "display_name": "base",
   "language": "python",
   "name": "python3"
  },
  "language_info": {
   "codemirror_mode": {
    "name": "ipython",
    "version": 3
   },
   "file_extension": ".py",
   "mimetype": "text/x-python",
   "name": "python",
   "nbconvert_exporter": "python",
   "pygments_lexer": "ipython3",
   "version": "3.9.7"
  },
  "orig_nbformat": 4
 },
 "nbformat": 4,
 "nbformat_minor": 2
}
