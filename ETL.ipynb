{
 "cells": [
  {
   "cell_type": "code",
   "execution_count": 1,
   "metadata": {},
   "outputs": [],
   "source": [
    "from pyspark.sql import SparkSession\n",
    "from pyspark.sql.types import *\n",
    "from pyspark.sql.functions import *\n",
    "import pandas as pd\n",
    "#col, from_utc_timestamp,upper,lower,initcap,concat_ws,regexp_replace,isnan,when,count,coalesce"
   ]
  },
  {
   "cell_type": "code",
   "execution_count": 2,
   "metadata": {},
   "outputs": [],
   "source": [
    "spark=SparkSession.builder.master('local[1]').appName('Credit Card Management System').getOrCreate()"
   ]
  },
  {
   "attachments": {},
   "cell_type": "markdown",
   "metadata": {},
   "source": [
    "### DATA WRANGLING\n",
    "\n",
    "Cleaning file 'cdw_sapp_custmer.json'"
   ]
  },
  {
   "cell_type": "code",
   "execution_count": 3,
   "metadata": {},
   "outputs": [
    {
     "name": "stdout",
     "output_type": "stream",
     "text": [
      "+------+----------------+------------+-------------+-------------------+----------+----------+--------+----------+---------+--------------------+-----------+---------+-----------------+\n",
      "|APT_NO|  CREDIT_CARD_NO|   CUST_CITY| CUST_COUNTRY|         CUST_EMAIL|CUST_PHONE|CUST_STATE|CUST_ZIP|FIRST_NAME|LAST_NAME|        LAST_UPDATED|MIDDLE_NAME|      SSN|      STREET_NAME|\n",
      "+------+----------------+------------+-------------+-------------------+----------+----------+--------+----------+---------+--------------------+-----------+---------+-----------------+\n",
      "|   656|4210653310061055|     Natchez|United States|AHooper@example.com|   1237818|        MS|   39120|      Alec|   Hooper|2018-04-21T12:49:...|         Wm|123456100|Main Street North|\n",
      "|   829|4210653310102868|Wethersfield|United States|EHolman@example.com|   1238933|        CT|   06109|      Etta|   Holman|2018-04-21T12:49:...|    Brendan|123453023|    Redwood Drive|\n",
      "|   683|4210653310116272|     Huntley|United States|WDunham@example.com|   1243018|        IL|   60142|    Wilber|   Dunham|2018-04-21T12:49:...|   Ezequiel|123454487| 12th Street East|\n",
      "|   253|4210653310195948|   NewBerlin|United States| EHardy@example.com|   1243215|        WI|   53151|   Eugenio|    Hardy|2018-04-21T12:49:...|      Trina|123459758|Country Club Road|\n",
      "+------+----------------+------------+-------------+-------------------+----------+----------+--------+----------+---------+--------------------+-----------+---------+-----------------+\n",
      "only showing top 4 rows\n",
      "\n"
     ]
    }
   ],
   "source": [
    "df_cust=spark.read.json('cdw_sapp_custmer.json')\n",
    "df_cust.show(4)"
   ]
  },
  {
   "cell_type": "code",
   "execution_count": 4,
   "metadata": {},
   "outputs": [
    {
     "name": "stdout",
     "output_type": "stream",
     "text": [
      "+------+--------------+---------+------------+----------+----------+----------+--------+----------+---------+------------+-----------+---+-----------+-----+\n",
      "|APT_NO|CREDIT_CARD_NO|CUST_CITY|CUST_COUNTRY|CUST_EMAIL|CUST_PHONE|CUST_STATE|CUST_ZIP|FIRST_NAME|LAST_NAME|LAST_UPDATED|MIDDLE_NAME|SSN|STREET_NAME|count|\n",
      "+------+--------------+---------+------------+----------+----------+----------+--------+----------+---------+------------+-----------+---+-----------+-----+\n",
      "+------+--------------+---------+------------+----------+----------+----------+--------+----------+---------+------------+-----------+---+-----------+-----+\n",
      "\n"
     ]
    },
    {
     "data": {
      "text/plain": [
       "True"
      ]
     },
     "execution_count": 4,
     "metadata": {},
     "output_type": "execute_result"
    }
   ],
   "source": [
    "#checking for duplicates\n",
    "df_cust.groupBy(df_cust.columns).count().where('count>1').show()\n",
    "(df_cust.distinct().count())==(df_cust.count())"
   ]
  },
  {
   "cell_type": "code",
   "execution_count": 5,
   "metadata": {},
   "outputs": [
    {
     "name": "stdout",
     "output_type": "stream",
     "text": [
      "+------+--------------+---------+------------+----------+----------+----------+--------+----------+---------+------------+-----------+---+-----------+\n",
      "|APT_NO|CREDIT_CARD_NO|CUST_CITY|CUST_COUNTRY|CUST_EMAIL|CUST_PHONE|CUST_STATE|CUST_ZIP|FIRST_NAME|LAST_NAME|LAST_UPDATED|MIDDLE_NAME|SSN|STREET_NAME|\n",
      "+------+--------------+---------+------------+----------+----------+----------+--------+----------+---------+------------+-----------+---+-----------+\n",
      "|     0|             0|        0|           0|         0|         0|         0|       0|         0|        0|           0|          0|  0|          0|\n",
      "+------+--------------+---------+------------+----------+----------+----------+--------+----------+---------+------------+-----------+---+-----------+\n",
      "\n"
     ]
    }
   ],
   "source": [
    "def check_nulls(df):\n",
    "    navalues=df.select([\n",
    "    (\n",
    "        count(when((isnan(c) | col(c).isNull()), c)) if t not in (\"timestamp\", \"date\")\n",
    "        else count(when(col(c).isNull(), c))\n",
    "    ).alias(c)\n",
    "    for c, t in df.dtypes if c in df.columns])\n",
    "    return navalues\n",
    "\n",
    "check_nulls(df_cust).show()"
   ]
  },
  {
   "cell_type": "code",
   "execution_count": 6,
   "metadata": {},
   "outputs": [
    {
     "name": "stdout",
     "output_type": "stream",
     "text": [
      "root\n",
      " |-- APT_NO: string (nullable = true)\n",
      " |-- CREDIT_CARD_NO: string (nullable = true)\n",
      " |-- CUST_CITY: string (nullable = true)\n",
      " |-- CUST_COUNTRY: string (nullable = true)\n",
      " |-- CUST_EMAIL: string (nullable = true)\n",
      " |-- CUST_PHONE: string (nullable = true)\n",
      " |-- CUST_STATE: string (nullable = true)\n",
      " |-- CUST_ZIP: integer (nullable = true)\n",
      " |-- FIRST_NAME: string (nullable = true)\n",
      " |-- LAST_NAME: string (nullable = true)\n",
      " |-- LAST_UPDATED: timestamp (nullable = true)\n",
      " |-- MIDDLE_NAME: string (nullable = true)\n",
      " |-- SSN: integer (nullable = true)\n",
      " |-- STREET_NAME: string (nullable = true)\n",
      " |-- FULL_STREET_ADDRESS: string (nullable = false)\n",
      "\n"
     ]
    }
   ],
   "source": [
    "df_cust=df_cust.withColumn('SSN',col('SSN').cast('int'))\n",
    "df_cust=df_cust.withColumn('CUST_ZIP',col('CUST_ZIP').cast('int'))\n",
    "df_cust=df_cust.withColumn('LAST_UPDATED',to_timestamp('LAST_UPDATED'))\n",
    "df_cust=df_cust.withColumn('FIRST_NAME',initcap(col('FIRST_NAME')))\n",
    "df_cust=df_cust.withColumn('MIDDLE_NAME',lower('MIDDLE_NAME'))\n",
    "df_cust=df_cust.withColumn('LAST_NAME',initcap(col('LAST_NAME')))\n",
    "df_cust=df_cust.withColumn('FULL_STREET_ADDRESS',concat_ws(',',df_cust.APT_NO,df_cust.STREET_NAME))\n",
    "df_cust=df_cust.withColumn('CUST_PHONE',regexp_replace(rpad(col('CUST_PHONE'),10,'0'),r'^(\\d{3})(\\d{3})(\\d{4})$','($1)$2-$3'))\n",
    "\n",
    "df_cust.printSchema()"
   ]
  },
  {
   "cell_type": "code",
   "execution_count": 7,
   "metadata": {},
   "outputs": [
    {
     "name": "stdout",
     "output_type": "stream",
     "text": [
      "+------+----------------+------------+-------------+-------------------+-------------+----------+--------+----------+---------+-------------------+-----------+---------+-----------------+--------------------+\n",
      "|APT_NO|  CREDIT_CARD_NO|   CUST_CITY| CUST_COUNTRY|         CUST_EMAIL|   CUST_PHONE|CUST_STATE|CUST_ZIP|FIRST_NAME|LAST_NAME|       LAST_UPDATED|MIDDLE_NAME|      SSN|      STREET_NAME| FULL_STREET_ADDRESS|\n",
      "+------+----------------+------------+-------------+-------------------+-------------+----------+--------+----------+---------+-------------------+-----------+---------+-----------------+--------------------+\n",
      "|   656|4210653310061055|     Natchez|United States|AHooper@example.com|(123)781-8000|        MS|   39120|      Alec|   Hooper|2018-04-21 12:49:02|         wm|123456100|Main Street North|656,Main Street N...|\n",
      "|   829|4210653310102868|Wethersfield|United States|EHolman@example.com|(123)893-3000|        CT|    6109|      Etta|   Holman|2018-04-21 12:49:02|    brendan|123453023|    Redwood Drive|   829,Redwood Drive|\n",
      "+------+----------------+------------+-------------+-------------------+-------------+----------+--------+----------+---------+-------------------+-----------+---------+-----------------+--------------------+\n",
      "only showing top 2 rows\n",
      "\n"
     ]
    }
   ],
   "source": [
    "df_cust.show(2)"
   ]
  },
  {
   "cell_type": "code",
   "execution_count": 8,
   "metadata": {},
   "outputs": [],
   "source": [
    "df_cust=df_cust.drop(*['APT_NO','STREET_NAME'])"
   ]
  },
  {
   "cell_type": "code",
   "execution_count": 9,
   "metadata": {},
   "outputs": [
    {
     "data": {
      "text/plain": [
       "['CREDIT_CARD_NO',\n",
       " 'CUST_CITY',\n",
       " 'CUST_COUNTRY',\n",
       " 'CUST_EMAIL',\n",
       " 'CUST_PHONE',\n",
       " 'CUST_STATE',\n",
       " 'CUST_ZIP',\n",
       " 'FIRST_NAME',\n",
       " 'LAST_NAME',\n",
       " 'LAST_UPDATED',\n",
       " 'MIDDLE_NAME',\n",
       " 'SSN',\n",
       " 'FULL_STREET_ADDRESS']"
      ]
     },
     "execution_count": 9,
     "metadata": {},
     "output_type": "execute_result"
    }
   ],
   "source": [
    "df_cust.columns"
   ]
  },
  {
   "cell_type": "code",
   "execution_count": 10,
   "metadata": {},
   "outputs": [],
   "source": [
    "col_order=['SSN','FIRST_NAME','MIDDLE_NAME','LAST_NAME','FULL_STREET_ADDRESS','CUST_CITY','CUST_STATE',\n",
    " 'CUST_COUNTRY','CUST_ZIP','CUST_PHONE','CUST_EMAIL','LAST_UPDATED']\n",
    "df_cust=df_cust.select(*col_order)"
   ]
  },
  {
   "cell_type": "code",
   "execution_count": 11,
   "metadata": {},
   "outputs": [
    {
     "name": "stdout",
     "output_type": "stream",
     "text": [
      "+---------+----------+-----------+---------+---------------------+------------+----------+-------------+--------+-------------+----------------------+-------------------+\n",
      "|SSN      |FIRST_NAME|MIDDLE_NAME|LAST_NAME|FULL_STREET_ADDRESS  |CUST_CITY   |CUST_STATE|CUST_COUNTRY |CUST_ZIP|CUST_PHONE   |CUST_EMAIL            |LAST_UPDATED       |\n",
      "+---------+----------+-----------+---------+---------------------+------------+----------+-------------+--------+-------------+----------------------+-------------------+\n",
      "|123456100|Alec      |wm         |Hooper   |656,Main Street North|Natchez     |MS        |United States|39120   |(123)781-8000|AHooper@example.com   |2018-04-21 12:49:02|\n",
      "|123453023|Etta      |brendan    |Holman   |829,Redwood Drive    |Wethersfield|CT        |United States|6109    |(123)893-3000|EHolman@example.com   |2018-04-21 12:49:02|\n",
      "|123454487|Wilber    |ezequiel   |Dunham   |683,12th Street East |Huntley     |IL        |United States|60142   |(124)301-8000|WDunham@example.com   |2018-04-21 12:49:02|\n",
      "|123459758|Eugenio   |trina      |Hardy    |253,Country Club Road|NewBerlin   |WI        |United States|53151   |(124)321-5000|EHardy@example.com    |2018-04-21 12:49:02|\n",
      "|123454431|Wilfred   |may        |Ayers    |301,Madison Street   |ElPaso      |TX        |United States|79930   |(124)207-4000|WAyers@example.com    |2018-04-21 12:49:02|\n",
      "|123454202|Beau      |ambrose    |Woodard  |3,Colonial Drive     |NorthOlmsted|OH        |United States|44070   |(124)257-0000|BWoodard@example.com  |2018-04-21 12:49:02|\n",
      "|123451799|Sheila    |larry      |Kemp     |84,Belmont Avenue    |Vienna      |VA        |United States|22180   |(123)968-5000|SKemp@example.com     |2018-04-21 12:49:02|\n",
      "|123453875|Wendy     |ora        |Hurley   |728,Oxford Court     |Duarte      |CA        |United States|91010   |(123)821-3000|WHurley@example.com   |2018-04-21 12:49:02|\n",
      "|123457511|Alec      |tracie     |Gilmore  |81,Forest Street     |Owosso      |MI        |United States|48867   |(124)068-9000|AGilmore@example.com  |2018-04-21 12:49:02|\n",
      "|123457464|Barbra    |mitchel    |Lau      |561,Court Street     |Zion        |IL        |United States|60099   |(123)522-2000|BLau@example.com      |2018-04-21 12:49:02|\n",
      "|123457639|Edmundo   |denny      |Thomson  |622,Cypress Court    |Youngstown  |OH        |United States|44512   |(124)136-3000|EThomson@example.com  |2018-04-21 12:49:02|\n",
      "|123453242|Elsa      |isabelle   |Truong   |924,8th Street West  |Summerville |SC        |United States|29483   |(123)622-8000|ETruong@example.com   |2018-04-21 12:49:02|\n",
      "|123454339|Homer     |henry      |Mckinney |611,East Avenue      |ElPaso      |TX        |United States|79930   |(123)816-5000|HMckinney@example.com |2018-04-21 12:49:02|\n",
      "|123454537|Rita      |rickey     |Kidd     |680,Route 44         |Fenton      |MI        |United States|48430   |(123)473-0000|RKidd@example.com     |2018-04-21 12:49:02|\n",
      "|123452373|Amalia    |heriberto  |Ballard  |71,Warren Street     |Grandville  |MI        |United States|49418   |(124)211-3000|ABallard@example.com  |2018-04-21 12:49:02|\n",
      "|123455343|Patty     |angelita   |Thomas   |195,Jones Street     |YubaCity    |CA        |United States|95993   |(123)988-8000|PThomas@example.com   |2018-04-21 12:49:02|\n",
      "|123451533|Josefina  |dorothea   |Morrow   |500,New Street       |CapeCoral   |FL        |United States|33904   |(124)015-8000|JMorrow@example.com   |2018-04-21 12:49:02|\n",
      "|123459278|Nelson    |jefferson  |Andrews  |989,Division Street  |Brookfield  |WI        |United States|53045   |(124)140-8000|NAndrews@example.com  |2018-04-21 12:49:02|\n",
      "|123456915|Miquel    |maximo     |Schneider|810,Maple Street     |Richmond    |VA        |United States|23223   |(123)839-0000|MSchneider@example.com|2018-04-21 12:49:02|\n",
      "|123453807|Parker    |arnulfo    |Tidwell  |649,Eagle Road       |WestChester |PA        |United States|19380   |(123)506-7000|PTidwell@example.com  |2018-04-21 12:49:02|\n",
      "+---------+----------+-----------+---------+---------------------+------------+----------+-------------+--------+-------------+----------------------+-------------------+\n",
      "only showing top 20 rows\n",
      "\n"
     ]
    }
   ],
   "source": [
    "df_cust.show(truncate=False)"
   ]
  },
  {
   "cell_type": "code",
   "execution_count": 12,
   "metadata": {},
   "outputs": [],
   "source": [
    "#pip install mysql-connector-python"
   ]
  },
  {
   "cell_type": "code",
   "execution_count": 13,
   "metadata": {},
   "outputs": [],
   "source": [
    "from mysql.connector import Error\n",
    "#Write to MySQL Table\n",
    "def write_to_db(df,table_name):\n",
    "    try:\n",
    "        df.write.format(\"jdbc\")\\\n",
    "        .option(\"driver\",\"com.mysql.cj.jdbc.Driver\")\\\n",
    "        .option(\"url\", \"jdbc:mysql://localhost:3306/creditcard_capstone\")\\\n",
    "        .option(\"dbtable\", table_name)\\\n",
    "        .option(\"user\", \"root\")\\\n",
    "        .option(\"password\", \"admin\")\\\n",
    "        .save()\n",
    "        print(f'{table_name} table is created')\n",
    "    except Exception as e:\n",
    "        print('Error while connecting to MySQL',e)\n"
   ]
  },
  {
   "cell_type": "code",
   "execution_count": 14,
   "metadata": {},
   "outputs": [
    {
     "name": "stdout",
     "output_type": "stream",
     "text": [
      "Error while connecting to MySQL Table or view 'CDW_SAPP_CUSTOMER' already exists. SaveMode: ErrorIfExists.\n"
     ]
    }
   ],
   "source": [
    "write_to_db(df_cust,'CDW_SAPP_CUSTOMER')"
   ]
  },
  {
   "attachments": {},
   "cell_type": "markdown",
   "metadata": {},
   "source": [
    "Cleaning file 'cdw_sapp_branch.json'"
   ]
  },
  {
   "cell_type": "code",
   "execution_count": 15,
   "metadata": {},
   "outputs": [
    {
     "name": "stdout",
     "output_type": "stream",
     "text": [
      "+-----------+-----------+-----------+------------+------------+-------------+----------+------------+\n",
      "|BRANCH_CITY|BRANCH_CODE|BRANCH_NAME|BRANCH_PHONE|BRANCH_STATE|BRANCH_STREET|BRANCH_ZIP|LAST_UPDATED|\n",
      "+-----------+-----------+-----------+------------+------------+-------------+----------+------------+\n",
      "|          0|          0|          0|           0|           0|            0|         0|           0|\n",
      "+-----------+-----------+-----------+------------+------------+-------------+----------+------------+\n",
      "\n"
     ]
    }
   ],
   "source": [
    "df_branch=spark.read.json('cdw_sapp_branch.json')\n",
    "check_nulls(df_branch).show()"
   ]
  },
  {
   "cell_type": "code",
   "execution_count": 16,
   "metadata": {},
   "outputs": [
    {
     "name": "stdout",
     "output_type": "stream",
     "text": [
      "+-----------+-----------+-----------+------------+------------+-------------+----------+------------+-----+\n",
      "|BRANCH_CITY|BRANCH_CODE|BRANCH_NAME|BRANCH_PHONE|BRANCH_STATE|BRANCH_STREET|BRANCH_ZIP|LAST_UPDATED|count|\n",
      "+-----------+-----------+-----------+------------+------------+-------------+----------+------------+-----+\n",
      "+-----------+-----------+-----------+------------+------------+-------------+----------+------------+-----+\n",
      "\n"
     ]
    },
    {
     "data": {
      "text/plain": [
       "True"
      ]
     },
     "execution_count": 16,
     "metadata": {},
     "output_type": "execute_result"
    }
   ],
   "source": [
    "#checking for duplicates\n",
    "df_branch.groupBy(df_branch.columns).count().where('count>1').show()\n",
    "(df_branch.distinct().count())==(df_branch.count())"
   ]
  },
  {
   "cell_type": "code",
   "execution_count": 17,
   "metadata": {},
   "outputs": [
    {
     "name": "stdout",
     "output_type": "stream",
     "text": [
      "+-----------------+-----------+------------+------------+------------+-----------------+----------+--------------------+\n",
      "|      BRANCH_CITY|BRANCH_CODE| BRANCH_NAME|BRANCH_PHONE|BRANCH_STATE|    BRANCH_STREET|BRANCH_ZIP|        LAST_UPDATED|\n",
      "+-----------------+-----------+------------+------------+------------+-----------------+----------+--------------------+\n",
      "|        Lakeville|          1|Example Bank|  1234565276|          MN|     Bridle Court|     55044|2018-04-18T16:51:...|\n",
      "|          Huntley|          2|Example Bank|  1234618993|          IL|Washington Street|     60142|2018-04-18T16:51:...|\n",
      "|SouthRichmondHill|          3|Example Bank|  1234985926|          NY|    Warren Street|     11419|2018-04-18T16:51:...|\n",
      "+-----------------+-----------+------------+------------+------------+-----------------+----------+--------------------+\n",
      "only showing top 3 rows\n",
      "\n"
     ]
    }
   ],
   "source": [
    "df_branch.show(3)"
   ]
  },
  {
   "cell_type": "code",
   "execution_count": 18,
   "metadata": {},
   "outputs": [
    {
     "name": "stdout",
     "output_type": "stream",
     "text": [
      "root\n",
      " |-- BRANCH_CITY: string (nullable = true)\n",
      " |-- BRANCH_CODE: long (nullable = true)\n",
      " |-- BRANCH_NAME: string (nullable = true)\n",
      " |-- BRANCH_PHONE: string (nullable = true)\n",
      " |-- BRANCH_STATE: string (nullable = true)\n",
      " |-- BRANCH_STREET: string (nullable = true)\n",
      " |-- BRANCH_ZIP: long (nullable = true)\n",
      " |-- LAST_UPDATED: string (nullable = true)\n",
      "\n"
     ]
    }
   ],
   "source": [
    "df_branch.printSchema()"
   ]
  },
  {
   "cell_type": "code",
   "execution_count": 19,
   "metadata": {},
   "outputs": [],
   "source": [
    "cols=['BRANCH_CODE','BRANCH_ZIP']\n",
    "for col_name in cols:\n",
    "    df_branch=df_branch.withColumn(col_name,col(col_name).cast('int'))\n",
    "df_branch=df_branch.withColumn('BRANCH_ZIP',coalesce(col('BRANCH_ZIP'),lit(999999)))\n",
    "df_branch=df_branch.withColumn('BRANCH_PHONE',regexp_replace(col('BRANCH_PHONE'),'^(\\d{3})(\\d{3})(\\d{4})$','($1)$2-$3'))\n",
    "df_branch=df_branch.withColumn('LAST_UPDATED',to_timestamp('LAST_UPDATED'))"
   ]
  },
  {
   "cell_type": "code",
   "execution_count": 20,
   "metadata": {},
   "outputs": [
    {
     "name": "stdout",
     "output_type": "stream",
     "text": [
      "+-----------------+-----------+------------+-------------+------------+-----------------+----------+-------------------+\n",
      "|      BRANCH_CITY|BRANCH_CODE| BRANCH_NAME| BRANCH_PHONE|BRANCH_STATE|    BRANCH_STREET|BRANCH_ZIP|       LAST_UPDATED|\n",
      "+-----------------+-----------+------------+-------------+------------+-----------------+----------+-------------------+\n",
      "|        Lakeville|          1|Example Bank|(123)456-5276|          MN|     Bridle Court|     55044|2018-04-18 16:51:47|\n",
      "|          Huntley|          2|Example Bank|(123)461-8993|          IL|Washington Street|     60142|2018-04-18 16:51:47|\n",
      "|SouthRichmondHill|          3|Example Bank|(123)498-5926|          NY|    Warren Street|     11419|2018-04-18 16:51:47|\n",
      "+-----------------+-----------+------------+-------------+------------+-----------------+----------+-------------------+\n",
      "only showing top 3 rows\n",
      "\n"
     ]
    }
   ],
   "source": [
    "df_branch.show(3)"
   ]
  },
  {
   "cell_type": "code",
   "execution_count": 21,
   "metadata": {},
   "outputs": [
    {
     "name": "stdout",
     "output_type": "stream",
     "text": [
      "+-----------+------------+-----------------+-----------------+------------+----------+-------------+-------------------+\n",
      "|BRANCH_CODE| BRANCH_NAME|    BRANCH_STREET|      BRANCH_CITY|BRANCH_STATE|BRANCH_ZIP| BRANCH_PHONE|       LAST_UPDATED|\n",
      "+-----------+------------+-----------------+-----------------+------------+----------+-------------+-------------------+\n",
      "|          1|Example Bank|     Bridle Court|        Lakeville|          MN|     55044|(123)456-5276|2018-04-18 16:51:47|\n",
      "|          2|Example Bank|Washington Street|          Huntley|          IL|     60142|(123)461-8993|2018-04-18 16:51:47|\n",
      "|          3|Example Bank|    Warren Street|SouthRichmondHill|          NY|     11419|(123)498-5926|2018-04-18 16:51:47|\n",
      "+-----------+------------+-----------------+-----------------+------------+----------+-------------+-------------------+\n",
      "only showing top 3 rows\n",
      "\n"
     ]
    }
   ],
   "source": [
    "col_order=['BRANCH_CODE','BRANCH_NAME','BRANCH_STREET','BRANCH_CITY','BRANCH_STATE','BRANCH_ZIP','BRANCH_PHONE','LAST_UPDATED']\n",
    "df_branch=df_branch.select(*col_order)\n",
    "df_branch.show(3)"
   ]
  },
  {
   "cell_type": "code",
   "execution_count": 22,
   "metadata": {},
   "outputs": [
    {
     "name": "stdout",
     "output_type": "stream",
     "text": [
      "Error while connecting to MySQL Table or view 'CDW_SAPP_BRANCH' already exists. SaveMode: ErrorIfExists.\n"
     ]
    }
   ],
   "source": [
    "write_to_db(df_branch,'CDW_SAPP_BRANCH')"
   ]
  },
  {
   "attachments": {},
   "cell_type": "markdown",
   "metadata": {},
   "source": [
    "Cleaning file 'cdw_sapp_credit.json'"
   ]
  },
  {
   "cell_type": "code",
   "execution_count": 23,
   "metadata": {},
   "outputs": [
    {
     "name": "stdout",
     "output_type": "stream",
     "text": [
      "+-----------+--------------+--------+---+-----+--------------+----------------+-----------------+----+\n",
      "|BRANCH_CODE|CREDIT_CARD_NO|CUST_SSN|DAY|MONTH|TRANSACTION_ID|TRANSACTION_TYPE|TRANSACTION_VALUE|YEAR|\n",
      "+-----------+--------------+--------+---+-----+--------------+----------------+-----------------+----+\n",
      "|          0|             0|       0|  0|    0|             0|               0|                0|   0|\n",
      "+-----------+--------------+--------+---+-----+--------------+----------------+-----------------+----+\n",
      "\n"
     ]
    }
   ],
   "source": [
    "df_credit=spark.read.json('cdw_sapp_credit.json')\n",
    "check_nulls(df_credit).show()"
   ]
  },
  {
   "cell_type": "code",
   "execution_count": 24,
   "metadata": {},
   "outputs": [
    {
     "name": "stdout",
     "output_type": "stream",
     "text": [
      "+-----------+----------------+---------+---+-----+--------------+----------------+-----------------+----+\n",
      "|BRANCH_CODE|  CREDIT_CARD_NO| CUST_SSN|DAY|MONTH|TRANSACTION_ID|TRANSACTION_TYPE|TRANSACTION_VALUE|YEAR|\n",
      "+-----------+----------------+---------+---+-----+--------------+----------------+-----------------+----+\n",
      "|        114|4210653349028689|123459988| 14|    2|             1|       Education|             78.9|2018|\n",
      "|         35|4210653349028689|123459988| 20|    3|             2|   Entertainment|            14.24|2018|\n",
      "|        160|4210653349028689|123459988|  8|    7|             3|         Grocery|             56.7|2018|\n",
      "+-----------+----------------+---------+---+-----+--------------+----------------+-----------------+----+\n",
      "only showing top 3 rows\n",
      "\n"
     ]
    }
   ],
   "source": [
    "df_credit.show(3)"
   ]
  },
  {
   "cell_type": "code",
   "execution_count": 25,
   "metadata": {},
   "outputs": [
    {
     "name": "stdout",
     "output_type": "stream",
     "text": [
      "True\n",
      "+-----------+--------------+--------+---+-----+--------------+----------------+-----------------+----+-----+\n",
      "|BRANCH_CODE|CREDIT_CARD_NO|CUST_SSN|DAY|MONTH|TRANSACTION_ID|TRANSACTION_TYPE|TRANSACTION_VALUE|YEAR|count|\n",
      "+-----------+--------------+--------+---+-----+--------------+----------------+-----------------+----+-----+\n",
      "+-----------+--------------+--------+---+-----+--------------+----------------+-----------------+----+-----+\n",
      "\n"
     ]
    }
   ],
   "source": [
    "#checking for duplicates\n",
    "print(df_credit.distinct().count()==df_credit.count())\n",
    "df_credit.groupBy(df_credit.columns).count().where('count>1').show()"
   ]
  },
  {
   "cell_type": "code",
   "execution_count": 26,
   "metadata": {},
   "outputs": [
    {
     "name": "stdout",
     "output_type": "stream",
     "text": [
      "root\n",
      " |-- BRANCH_CODE: long (nullable = true)\n",
      " |-- CREDIT_CARD_NO: string (nullable = true)\n",
      " |-- CUST_SSN: long (nullable = true)\n",
      " |-- DAY: long (nullable = true)\n",
      " |-- MONTH: long (nullable = true)\n",
      " |-- TRANSACTION_ID: long (nullable = true)\n",
      " |-- TRANSACTION_TYPE: string (nullable = true)\n",
      " |-- TRANSACTION_VALUE: double (nullable = true)\n",
      " |-- YEAR: long (nullable = true)\n",
      "\n"
     ]
    }
   ],
   "source": [
    "df_credit.printSchema()"
   ]
  },
  {
   "cell_type": "code",
   "execution_count": 27,
   "metadata": {},
   "outputs": [],
   "source": [
    "# Convert day, month, and year to timeid\n",
    "df_credit = df_credit.withColumn(\"TIMEID\",concat(df_credit[\"year\"].cast(\"string\"),\n",
    "        lpad(df_credit[\"month\"].cast(\"string\"), 2, \"0\"),lpad(df_credit[\"day\"].cast(\"string\"), 2, \"0\")))\n",
    "col_name=['CUST_SSN','BRANCH_CODE','TRANSACTION_ID','TIMEID']\n",
    "for cols in col_name:\n",
    "    df_credit=df_credit.withColumn(cols,col(cols).cast('int'))\n",
    "df_credit=df_credit.withColumnRenamed(\"credit_card_no\", \"CUST_CC_NO\")\n",
    "# df_credit = df_credit.withColumn(\"TIMEID\", expr(\"make_date(year, month, day)\"))\n",
    "df_credit=df_credit.drop(*['DAY','MONTH','YEAR'])"
   ]
  },
  {
   "cell_type": "code",
   "execution_count": 28,
   "metadata": {},
   "outputs": [
    {
     "name": "stdout",
     "output_type": "stream",
     "text": [
      "+--------------+----------------+----------------+-----------------+-----------+---------+--------+\n",
      "|TRANSACTION_ID|      CUST_CC_NO|TRANSACTION_TYPE|TRANSACTION_VALUE|BRANCH_CODE| CUST_SSN|  TIMEID|\n",
      "+--------------+----------------+----------------+-----------------+-----------+---------+--------+\n",
      "|             1|4210653349028689|       Education|             78.9|        114|123459988|20180214|\n",
      "|             2|4210653349028689|   Entertainment|            14.24|         35|123459988|20180320|\n",
      "|             3|4210653349028689|         Grocery|             56.7|        160|123459988|20180708|\n",
      "|             4|4210653349028689|   Entertainment|            59.73|        114|123459988|20180419|\n",
      "|             5|4210653349028689|             Gas|             3.59|         93|123459988|20181010|\n",
      "|             6|4210653349028689|       Education|             6.89|        164|123459988|20180528|\n",
      "|             7|4210653349028689|   Entertainment|            43.39|        119|123459988|20180519|\n",
      "|             8|4210653349028689|             Gas|            95.39|         23|123459988|20180808|\n",
      "|             9|4210653349028689|   Entertainment|            93.26|        166|123459988|20180318|\n",
      "|            10|4210653349028689|           Bills|           100.38|         83|123459988|20180903|\n",
      "|            11|4210653349028689|             Gas|            98.75|         52|123459988|20180821|\n",
      "|            12|4210653349028689|             Gas|            42.71|         17|123459988|20181224|\n",
      "|            13|4210653349028689|         Grocery|            40.24|         80|123459988|20180403|\n",
      "|            14|4210653349028689|           Bills|            17.81|         50|123459988|20180415|\n",
      "|            15|4210653349028689|           Bills|             29.0|        123|123459988|20180517|\n",
      "|            16|4210653349028689|            Test|            70.63|          9|123459988|20180706|\n",
      "|            17|4210653349028689|            Test|            27.04|          3|123459988|20180928|\n",
      "|            18|4210653349028689|   Entertainment|            88.75|        135|123459988|20180704|\n",
      "|            19|4210653349028689|            Test|            77.02|        103|123459988|20180424|\n",
      "|            20|4210653349028689|           Bills|            34.34|         78|123459988|20181008|\n",
      "+--------------+----------------+----------------+-----------------+-----------+---------+--------+\n",
      "only showing top 20 rows\n",
      "\n"
     ]
    }
   ],
   "source": [
    "col_order=['TRANSACTION_ID','CUST_CC_NO','TRANSACTION_TYPE','TRANSACTION_VALUE','BRANCH_CODE','CUST_SSN','TIMEID']\n",
    "df_credit=df_credit.select(*col_order)\n",
    "df_credit.show()"
   ]
  },
  {
   "cell_type": "code",
   "execution_count": 29,
   "metadata": {},
   "outputs": [
    {
     "name": "stdout",
     "output_type": "stream",
     "text": [
      "Error while connecting to MySQL Table or view 'CDW_SAPP_CREDIT_CARD' already exists. SaveMode: ErrorIfExists.\n"
     ]
    }
   ],
   "source": [
    "write_to_db(df_credit,'CDW_SAPP_CREDIT_CARD')"
   ]
  },
  {
   "attachments": {},
   "cell_type": "markdown",
   "metadata": {},
   "source": [
    "https://raw.githubusercontent.com/platformps/LoanDataset/main/loan_data.json"
   ]
  },
  {
   "cell_type": "code",
   "execution_count": 30,
   "metadata": {},
   "outputs": [],
   "source": [
    "import requests\n",
    "url = 'https://raw.githubusercontent.com/platformps/LoanDataset/main/loan_data.json'\n",
    "resp = requests.get(url).json()\n",
    "df_loan=pd.DataFrame(columns=['Application_ID', 'Gender',\n",
    " 'Married','Dependents','Education','Self_Employed',\n",
    " 'Credit_History','Property_Area','Income','Application_Status'])"
   ]
  },
  {
   "cell_type": "code",
   "execution_count": 31,
   "metadata": {},
   "outputs": [],
   "source": [
    "for i in range(len(resp)):\n",
    "    tempDf=pd.DataFrame([{'Application_ID':resp[i]['Application_ID'],\n",
    "                  'Gender':resp[i]['Gender'],\n",
    "                  'Married':resp[i]['Married'],\n",
    "                  'Dependents':resp[i]['Dependents'],\n",
    "                  'Education':resp[i]['Education'],\n",
    "                  'Self_Employed':resp[i]['Self_Employed'],\n",
    "                  'Credit_History':resp[i]['Credit_History'],\n",
    "                  'Property_Area':resp[i]['Property_Area'],\n",
    "                  'Income':resp[i]['Income'],\n",
    "                  'Application_Status':resp[i]['Application_Status']}])\n",
    "    df_loan=pd.concat([df_loan,tempDf],ignore_index=True )"
   ]
  },
  {
   "cell_type": "code",
   "execution_count": 32,
   "metadata": {},
   "outputs": [
    {
     "data": {
      "text/html": [
       "<div>\n",
       "<style scoped>\n",
       "    .dataframe tbody tr th:only-of-type {\n",
       "        vertical-align: middle;\n",
       "    }\n",
       "\n",
       "    .dataframe tbody tr th {\n",
       "        vertical-align: top;\n",
       "    }\n",
       "\n",
       "    .dataframe thead th {\n",
       "        text-align: right;\n",
       "    }\n",
       "</style>\n",
       "<table border=\"1\" class=\"dataframe\">\n",
       "  <thead>\n",
       "    <tr style=\"text-align: right;\">\n",
       "      <th></th>\n",
       "      <th>Application_ID</th>\n",
       "      <th>Gender</th>\n",
       "      <th>Married</th>\n",
       "      <th>Dependents</th>\n",
       "      <th>Education</th>\n",
       "      <th>Self_Employed</th>\n",
       "      <th>Credit_History</th>\n",
       "      <th>Property_Area</th>\n",
       "      <th>Income</th>\n",
       "      <th>Application_Status</th>\n",
       "    </tr>\n",
       "  </thead>\n",
       "  <tbody>\n",
       "    <tr>\n",
       "      <th>0</th>\n",
       "      <td>LP001002</td>\n",
       "      <td>Male</td>\n",
       "      <td>No</td>\n",
       "      <td>0</td>\n",
       "      <td>Graduate</td>\n",
       "      <td>No</td>\n",
       "      <td>1</td>\n",
       "      <td>Urban</td>\n",
       "      <td>medium</td>\n",
       "      <td>Y</td>\n",
       "    </tr>\n",
       "    <tr>\n",
       "      <th>1</th>\n",
       "      <td>LP001003</td>\n",
       "      <td>Male</td>\n",
       "      <td>Yes</td>\n",
       "      <td>1</td>\n",
       "      <td>Graduate</td>\n",
       "      <td>No</td>\n",
       "      <td>1</td>\n",
       "      <td>Rural</td>\n",
       "      <td>medium</td>\n",
       "      <td>N</td>\n",
       "    </tr>\n",
       "    <tr>\n",
       "      <th>2</th>\n",
       "      <td>LP001005</td>\n",
       "      <td>Male</td>\n",
       "      <td>Yes</td>\n",
       "      <td>0</td>\n",
       "      <td>Graduate</td>\n",
       "      <td>Yes</td>\n",
       "      <td>1</td>\n",
       "      <td>Urban</td>\n",
       "      <td>low</td>\n",
       "      <td>Y</td>\n",
       "    </tr>\n",
       "    <tr>\n",
       "      <th>3</th>\n",
       "      <td>LP001006</td>\n",
       "      <td>Male</td>\n",
       "      <td>Yes</td>\n",
       "      <td>0</td>\n",
       "      <td>Not Graduate</td>\n",
       "      <td>No</td>\n",
       "      <td>1</td>\n",
       "      <td>Urban</td>\n",
       "      <td>low</td>\n",
       "      <td>Y</td>\n",
       "    </tr>\n",
       "    <tr>\n",
       "      <th>4</th>\n",
       "      <td>LP001008</td>\n",
       "      <td>Male</td>\n",
       "      <td>No</td>\n",
       "      <td>0</td>\n",
       "      <td>Graduate</td>\n",
       "      <td>No</td>\n",
       "      <td>1</td>\n",
       "      <td>Urban</td>\n",
       "      <td>medium</td>\n",
       "      <td>Y</td>\n",
       "    </tr>\n",
       "  </tbody>\n",
       "</table>\n",
       "</div>"
      ],
      "text/plain": [
       "  Application_ID Gender Married Dependents     Education Self_Employed  \\\n",
       "0       LP001002   Male      No          0      Graduate            No   \n",
       "1       LP001003   Male     Yes          1      Graduate            No   \n",
       "2       LP001005   Male     Yes          0      Graduate           Yes   \n",
       "3       LP001006   Male     Yes          0  Not Graduate            No   \n",
       "4       LP001008   Male      No          0      Graduate            No   \n",
       "\n",
       "  Credit_History Property_Area  Income Application_Status  \n",
       "0              1         Urban  medium                  Y  \n",
       "1              1         Rural  medium                  N  \n",
       "2              1         Urban     low                  Y  \n",
       "3              1         Urban     low                  Y  \n",
       "4              1         Urban  medium                  Y  "
      ]
     },
     "execution_count": 32,
     "metadata": {},
     "output_type": "execute_result"
    }
   ],
   "source": [
    "df_loan.head()"
   ]
  },
  {
   "cell_type": "code",
   "execution_count": 33,
   "metadata": {},
   "outputs": [
    {
     "data": {
      "text/plain": [
       "(511, 10)"
      ]
     },
     "execution_count": 33,
     "metadata": {},
     "output_type": "execute_result"
    }
   ],
   "source": [
    "df_loan.shape"
   ]
  },
  {
   "cell_type": "code",
   "execution_count": 34,
   "metadata": {},
   "outputs": [
    {
     "data": {
      "text/plain": [
       "Application_ID        0\n",
       "Gender                0\n",
       "Married               0\n",
       "Dependents            0\n",
       "Education             0\n",
       "Self_Employed         0\n",
       "Credit_History        0\n",
       "Property_Area         0\n",
       "Income                0\n",
       "Application_Status    0\n",
       "dtype: int64"
      ]
     },
     "execution_count": 34,
     "metadata": {},
     "output_type": "execute_result"
    }
   ],
   "source": [
    "df_loan.isnull().sum()"
   ]
  },
  {
   "cell_type": "code",
   "execution_count": 35,
   "metadata": {},
   "outputs": [
    {
     "data": {
      "text/html": [
       "<div>\n",
       "<style scoped>\n",
       "    .dataframe tbody tr th:only-of-type {\n",
       "        vertical-align: middle;\n",
       "    }\n",
       "\n",
       "    .dataframe tbody tr th {\n",
       "        vertical-align: top;\n",
       "    }\n",
       "\n",
       "    .dataframe thead th {\n",
       "        text-align: right;\n",
       "    }\n",
       "</style>\n",
       "<table border=\"1\" class=\"dataframe\">\n",
       "  <thead>\n",
       "    <tr style=\"text-align: right;\">\n",
       "      <th></th>\n",
       "      <th>Application_ID</th>\n",
       "      <th>Gender</th>\n",
       "      <th>Married</th>\n",
       "      <th>Dependents</th>\n",
       "      <th>Education</th>\n",
       "      <th>Self_Employed</th>\n",
       "      <th>Credit_History</th>\n",
       "      <th>Property_Area</th>\n",
       "      <th>Income</th>\n",
       "      <th>Application_Status</th>\n",
       "    </tr>\n",
       "  </thead>\n",
       "  <tbody>\n",
       "  </tbody>\n",
       "</table>\n",
       "</div>"
      ],
      "text/plain": [
       "Empty DataFrame\n",
       "Columns: [Application_ID, Gender, Married, Dependents, Education, Self_Employed, Credit_History, Property_Area, Income, Application_Status]\n",
       "Index: []"
      ]
     },
     "execution_count": 35,
     "metadata": {},
     "output_type": "execute_result"
    }
   ],
   "source": [
    "df_loan[df_loan.duplicated()]"
   ]
  },
  {
   "cell_type": "code",
   "execution_count": 36,
   "metadata": {},
   "outputs": [
    {
     "data": {
      "text/html": [
       "<div>\n",
       "<style scoped>\n",
       "    .dataframe tbody tr th:only-of-type {\n",
       "        vertical-align: middle;\n",
       "    }\n",
       "\n",
       "    .dataframe tbody tr th {\n",
       "        vertical-align: top;\n",
       "    }\n",
       "\n",
       "    .dataframe thead th {\n",
       "        text-align: right;\n",
       "    }\n",
       "</style>\n",
       "<table border=\"1\" class=\"dataframe\">\n",
       "  <thead>\n",
       "    <tr style=\"text-align: right;\">\n",
       "      <th></th>\n",
       "      <th>Application_ID</th>\n",
       "      <th>Gender</th>\n",
       "      <th>Married</th>\n",
       "      <th>Dependents</th>\n",
       "      <th>Education</th>\n",
       "      <th>Self_Employed</th>\n",
       "      <th>Credit_History</th>\n",
       "      <th>Property_Area</th>\n",
       "      <th>Income</th>\n",
       "      <th>Application_Status</th>\n",
       "    </tr>\n",
       "  </thead>\n",
       "  <tbody>\n",
       "    <tr>\n",
       "      <th>0</th>\n",
       "      <td>LP001002</td>\n",
       "      <td>Male</td>\n",
       "      <td>No</td>\n",
       "      <td>0</td>\n",
       "      <td>Graduate</td>\n",
       "      <td>No</td>\n",
       "      <td>1</td>\n",
       "      <td>Urban</td>\n",
       "      <td>medium</td>\n",
       "      <td>Y</td>\n",
       "    </tr>\n",
       "    <tr>\n",
       "      <th>1</th>\n",
       "      <td>LP001003</td>\n",
       "      <td>Male</td>\n",
       "      <td>Yes</td>\n",
       "      <td>1</td>\n",
       "      <td>Graduate</td>\n",
       "      <td>No</td>\n",
       "      <td>1</td>\n",
       "      <td>Rural</td>\n",
       "      <td>medium</td>\n",
       "      <td>N</td>\n",
       "    </tr>\n",
       "    <tr>\n",
       "      <th>2</th>\n",
       "      <td>LP001005</td>\n",
       "      <td>Male</td>\n",
       "      <td>Yes</td>\n",
       "      <td>0</td>\n",
       "      <td>Graduate</td>\n",
       "      <td>Yes</td>\n",
       "      <td>1</td>\n",
       "      <td>Urban</td>\n",
       "      <td>low</td>\n",
       "      <td>Y</td>\n",
       "    </tr>\n",
       "    <tr>\n",
       "      <th>3</th>\n",
       "      <td>LP001006</td>\n",
       "      <td>Male</td>\n",
       "      <td>Yes</td>\n",
       "      <td>0</td>\n",
       "      <td>Not Graduate</td>\n",
       "      <td>No</td>\n",
       "      <td>1</td>\n",
       "      <td>Urban</td>\n",
       "      <td>low</td>\n",
       "      <td>Y</td>\n",
       "    </tr>\n",
       "    <tr>\n",
       "      <th>4</th>\n",
       "      <td>LP001008</td>\n",
       "      <td>Male</td>\n",
       "      <td>No</td>\n",
       "      <td>0</td>\n",
       "      <td>Graduate</td>\n",
       "      <td>No</td>\n",
       "      <td>1</td>\n",
       "      <td>Urban</td>\n",
       "      <td>medium</td>\n",
       "      <td>Y</td>\n",
       "    </tr>\n",
       "  </tbody>\n",
       "</table>\n",
       "</div>"
      ],
      "text/plain": [
       "  Application_ID Gender Married Dependents     Education Self_Employed  \\\n",
       "0       LP001002   Male      No          0      Graduate            No   \n",
       "1       LP001003   Male     Yes          1      Graduate            No   \n",
       "2       LP001005   Male     Yes          0      Graduate           Yes   \n",
       "3       LP001006   Male     Yes          0  Not Graduate            No   \n",
       "4       LP001008   Male      No          0      Graduate            No   \n",
       "\n",
       "   Credit_History Property_Area  Income Application_Status  \n",
       "0               1         Urban  medium                  Y  \n",
       "1               1         Rural  medium                  N  \n",
       "2               1         Urban     low                  Y  \n",
       "3               1         Urban     low                  Y  \n",
       "4               1         Urban  medium                  Y  "
      ]
     },
     "execution_count": 36,
     "metadata": {},
     "output_type": "execute_result"
    }
   ],
   "source": [
    "df_loan.to_csv('Loan_Data.csv',index=False)\n",
    "df_loan=pd.read_csv('Loan_Data.csv')\n",
    "df_loan.head()"
   ]
  },
  {
   "cell_type": "code",
   "execution_count": 37,
   "metadata": {},
   "outputs": [
    {
     "name": "stdout",
     "output_type": "stream",
     "text": [
      "Error while connecting to MySQL Table or view 'CDW_SAPP_loan_application' already exists. SaveMode: ErrorIfExists.\n"
     ]
    }
   ],
   "source": [
    "schema=StructType([\n",
    "    StructField('Application_ID',StringType()),\n",
    "    StructField('Gender',StringType()),\n",
    "    StructField('Married',StringType()),\n",
    "    StructField('Dependents',StringType()),\n",
    "    StructField('Education',StringType()),\n",
    "    StructField('Self_Employed',StringType()),\n",
    "    StructField('Credit_History',IntegerType()),\n",
    "    StructField('Property_Area',StringType()),\n",
    "    StructField('Income',StringType()),\n",
    "    StructField('Application_Status',StringType())\n",
    "])\n",
    "spark_df=spark.createDataFrame(df_loan,schema=schema)\n",
    "write_to_db(spark_df,'CDW_SAPP_loan_application')"
   ]
  },
  {
   "cell_type": "code",
   "execution_count": 38,
   "metadata": {},
   "outputs": [],
   "source": [
    "# ALTER TABLE cdw_sapp_customer ADD PRIMARY KEY (SSN);\n",
    "# ALTER TABLE cdw_sapp_branch ADD PRIMARY KEY (BRANCH_CODE);\n",
    "# ALTER TABLE cdw_sapp_credit_card ADD PRIMARY KEY (TRANSACTION_ID);\n",
    "# ALTER TABLE Date_Dim ADD PRIMARY KEY (Timeid);\n",
    "\n",
    "# ALTER TABLE `cdw_sapp_credit_card` ADD FOREIGN KEY (CUST_SSN) REFERENCES cdw_sapp_customer(SSN);\n",
    "# ALTER TABLE `cdw_sapp_credit_card` ADD FOREIGN KEY (BRANCH_CODE) REFERENCES cdw_sapp_branch(BRANCH_CODE);\n",
    "# ALTER TABLE `cdw_sapp_credit_card` ADD FOREIGN KEY (TIMEID) REFERENCES Date_Dim(Timeid);"
   ]
  },
  {
   "attachments": {},
   "cell_type": "markdown",
   "metadata": {},
   "source": [
    "### Creating Date Dimension table"
   ]
  },
  {
   "cell_type": "code",
   "execution_count": 39,
   "metadata": {},
   "outputs": [
    {
     "name": "stdout",
     "output_type": "stream",
     "text": [
      "root\n",
      " |-- Date_Id: integer (nullable = true)\n",
      " |-- calender_date: timestamp (nullable = true)\n",
      " |-- month_no: integer (nullable = true)\n",
      " |-- month_name: string (nullable = true)\n",
      " |-- day_of_month: integer (nullable = true)\n",
      " |-- week_day: string (nullable = true)\n",
      "\n"
     ]
    }
   ],
   "source": [
    "df_date=spark.read.format(\"csv\")\\\n",
    "        .option('header','true').option('inferSchema','true')\\\n",
    "        .load('Date_Dim.csv')\n",
    "\n",
    "df_date.printSchema()"
   ]
  },
  {
   "cell_type": "code",
   "execution_count": 40,
   "metadata": {},
   "outputs": [
    {
     "name": "stdout",
     "output_type": "stream",
     "text": [
      "+--------+-------------+--------+----------+------------+---------+\n",
      "| Date_Id|calender_date|month_no|month_name|day_of_month| week_day|\n",
      "+--------+-------------+--------+----------+------------+---------+\n",
      "|20180101|   2018-01-01|       1|       Jan|           1|   Monday|\n",
      "|20180102|   2018-01-02|       1|       Jan|           2|  Tuesday|\n",
      "|20180103|   2018-01-03|       1|       Jan|           3|Wednesday|\n",
      "|20180104|   2018-01-04|       1|       Jan|           4| Thursday|\n",
      "|20180105|   2018-01-05|       1|       Jan|           5|   Friday|\n",
      "|20180106|   2018-01-06|       1|       Jan|           6| Saturday|\n",
      "|20180107|   2018-01-07|       1|       Jan|           7|   Sunday|\n",
      "|20180108|   2018-01-08|       1|       Jan|           8|   Monday|\n",
      "|20180109|   2018-01-09|       1|       Jan|           9|  Tuesday|\n",
      "|20180110|   2018-01-10|       1|       Jan|          10|Wednesday|\n",
      "|20180111|   2018-01-11|       1|       Jan|          11| Thursday|\n",
      "|20180112|   2018-01-12|       1|       Jan|          12|   Friday|\n",
      "|20180113|   2018-01-13|       1|       Jan|          13| Saturday|\n",
      "|20180114|   2018-01-14|       1|       Jan|          14|   Sunday|\n",
      "|20180115|   2018-01-15|       1|       Jan|          15|   Monday|\n",
      "|20180116|   2018-01-16|       1|       Jan|          16|  Tuesday|\n",
      "|20180117|   2018-01-17|       1|       Jan|          17|Wednesday|\n",
      "|20180118|   2018-01-18|       1|       Jan|          18| Thursday|\n",
      "|20180119|   2018-01-19|       1|       Jan|          19|   Friday|\n",
      "|20180120|   2018-01-20|       1|       Jan|          20| Saturday|\n",
      "+--------+-------------+--------+----------+------------+---------+\n",
      "only showing top 20 rows\n",
      "\n"
     ]
    }
   ],
   "source": [
    "df_date=df_date.withColumn('calender_date',col('calender_date').cast('date'))\n",
    "df_date.show()"
   ]
  },
  {
   "cell_type": "code",
   "execution_count": 41,
   "metadata": {},
   "outputs": [
    {
     "name": "stdout",
     "output_type": "stream",
     "text": [
      "Error while connecting to MySQL Table or view 'Date_Dim' already exists. SaveMode: ErrorIfExists.\n"
     ]
    }
   ],
   "source": [
    "write_to_db(df_date,'Date_Dim')"
   ]
  }
 ],
 "metadata": {
  "kernelspec": {
   "display_name": "venv",
   "language": "python",
   "name": "python3"
  },
  "language_info": {
   "codemirror_mode": {
    "name": "ipython",
    "version": 3
   },
   "file_extension": ".py",
   "mimetype": "text/x-python",
   "name": "python",
   "nbconvert_exporter": "python",
   "pygments_lexer": "ipython3",
   "version": "3.9.7"
  },
  "orig_nbformat": 4
 },
 "nbformat": 4,
 "nbformat_minor": 2
}
